{
  "nbformat": 4,
  "nbformat_minor": 0,
  "metadata": {
    "kernelspec": {
      "name": "python3",
      "display_name": "Python 3"
    },
    "language_info": {
      "codemirror_mode": {
        "name": "ipython",
        "version": 3
      },
      "file_extension": ".py",
      "mimetype": "text/x-python",
      "name": "python",
      "nbconvert_exporter": "python",
      "pygments_lexer": "ipython3",
      "version": "3.6.9"
    },
    "colab": {
      "name": "Copy of JEETU KUMAR - lab_1.ipynb",
      "provenance": [],
      "collapsed_sections": []
    }
  },
  "cells": [
    {
      "cell_type": "code",
      "metadata": {
        "id": "tstdCQ31VmV5",
        "colab_type": "code",
        "outputId": "e8b13b32-01d0-43f5-aa6c-96ddca04eae2",
        "colab": {
          "base_uri": "https://localhost:8080/",
          "height": 52
        }
      },
      "source": [
        "# from google.colab import drive\n",
        "# drive.mount('/gdrive')\n",
        "# %cd /gdrive/My Drive/ML_Lab1\n",
        "\n"
      ],
      "execution_count": 0,
      "outputs": [
        {
          "output_type": "stream",
          "text": [
            "Drive already mounted at /gdrive; to attempt to forcibly remount, call drive.mount(\"/gdrive\", force_remount=True).\n",
            "/gdrive/My Drive/ML_Lab1\n"
          ],
          "name": "stdout"
        }
      ]
    },
    {
      "cell_type": "code",
      "metadata": {
        "id": "Z9BqlDPtH56I",
        "colab_type": "code",
        "colab": {}
      },
      "source": [
        "import os \n",
        "os.environ[\"CUDA_VISIBLE_DEVICES\"]=\"0\""
      ],
      "execution_count": 0,
      "outputs": []
    },
    {
      "cell_type": "markdown",
      "metadata": {
        "id": "9X61SGfXH56e",
        "colab_type": "text"
      },
      "source": [
        "#                                               Lab 1 - Weightage - 3%\n",
        "\n",
        "##  Decision Trees and Random Forests\n",
        "\n"
      ]
    },
    {
      "cell_type": "markdown",
      "metadata": {
        "id": "bUFpckA-H56m",
        "colab_type": "text"
      },
      "source": [
        "### Dataset used : Amazon Fine food reviews.\n",
        "### Maximum points in lab : 75 pts.\n",
        "#### Important points to remember :\n",
        " 1. Observations for the experiments done should be explained.\n",
        " 2. All the code should be submitted in form of single Jupyter notebook itself.\n",
        " 3. Points for each sub-section are mentioned in appropriate question.\n",
        " 4. Make sure to begin early since few experiments may consume more time to run.\n",
        " 5. You can use Google colab to run in jupyter notebook (https://colab.research.google.com/) How to load data in Google Colab ?(https://towardsdatascience.com/3-ways-to-load-csv-files-into-colab-7c14fcbdcb92)\n",
        " 6. The lab must be submitted on Google classroom. The code as well as the accompanying observations should be made part of the python notebook.\n",
        " 7. __The lab is due on Feb 7th 11.59pm.__\n",
        " 8. __The lab should be completed individually. Students are expected to follow the honor code of the class.__"
      ]
    },
    {
      "cell_type": "markdown",
      "metadata": {
        "id": "hEHXM5S5H56p",
        "colab_type": "text"
      },
      "source": [
        "### 1. Go through [scikit learn DecisionTree documentation] : https://scikitlearn.org/stable/modules/generated/sklearn.tree.DecisionTreeClassifier.html#sklearn.tree.DecisionTreeClassifier\n",
        "### Explain briefly various options available in corresponding DecisionTree classifier in scikit-learn package. [5 pts] \n",
        "\n",
        "\n"
      ]
    },
    {
      "cell_type": "markdown",
      "metadata": {
        "id": "Zlz8Zj88H56u",
        "colab_type": "text"
      },
      "source": [
        "# Add your description of the function here.\n",
        "\n",
        "### 1. criterion : \n",
        ">It specifies the splitting function to be used. 'gini', is the default splitting criteria. We can set the criterion to 'entropy', if we wish to use information gain as the measure of splitting quality.\n",
        "\n",
        "### 2. max_depth : \n",
        ">The maximum depth the tree can grow. If not set, then nodes expand till all leaves are pure or until all leaves contains less than min_samples_split samples.\n",
        "\n",
        "### 3. min_samples_split :\n",
        ">The minimum number of samples required to split an internal node. The default value of min_samples_split is 2. \n",
        "\n",
        "### 4. min_samples_leaf : \n",
        ">The minimum number of samples required to be a leaf node. The default value of min_samples_leaf is 1.A split will consider valid only if it leaves atleast min_samples_leaf training samples in each left and right brach.\n",
        "\n",
        "\n",
        "### 5. min_impurity_decrease \n",
        "> A node will be split if this split decreases the impurity by atleast this value.  \n",
        "\n",
        "\n",
        "### 6. class_weight \n",
        "> This parameter us used when we want to assign some weight to the classes. Default weight 1 is assinged to all the class otherwise.\n",
        "\n",
        "### 7. max_features \n",
        "> The number of features to consider when looking for the best split. \n",
        "By default sqrt(len(features)) is used for training.\n",
        "\n",
        "### 8. max_leaf_nodes\n",
        "> In the final tree, only best max_leaf_nodes will be taken and others will be rejected. Default value is 'None', which means reject none of the leaf nodes.  \n",
        "\n",
        "### 9. splitter\n",
        "> The strategy used to choose the split at each node. Supported strategies are 'best' to choose the best split and 'random' to choose the best random split.\n",
        "\n",
        "### 10. min_weight_fraction_leaf \n",
        "> The minimum weighted fraction of the sum total of weights (of all the input samples) required to be at a leaf node. Samples have equal weight when sample_weight is not provided.\n",
        "\n",
        "### 11. random_state\n",
        "> Grow a tree with max_leaf_nodes in best-first fashion. Best nodes are defined as relative reduction in impurity.\n",
        "\n",
        "Other Parameters are presort, ccp_alpha.\n",
        "\n",
        "----\n",
        "  \n",
        "  "
      ]
    },
    {
      "cell_type": "markdown",
      "metadata": {
        "id": "64VkHLiVH56y",
        "colab_type": "text"
      },
      "source": [
        "The Amazon Fine Food Reviews dataset consists of reviews of fine foods from Amazon.<br>\n",
        "\n",
        "Number of reviews: 568,454<br>\n",
        "Number of users: 256,059<br>\n",
        "Number of products: 74,258<br>\n",
        "Timespan: Oct 1999 - Oct 2012<br>\n",
        "Number of Attributes/Columns in data: 10 \n",
        "\n",
        "Attribute Information:\n",
        "\n",
        "1. Id\n",
        "2. ProductId - unique identifier for the product\n",
        "3. UserId - unqiue identifier for the user\n",
        "4. ProfileName\n",
        "5. HelpfulnessNumerator - number of users who found the review helpful\n",
        "6. HelpfulnessDenominator - number of users who indicated whether they found the review helpful or not\n",
        "7. Score - rating between 1 and 5 \n",
        "8. Time - timestamp for the review\n",
        "9. Summary - brief summary of the review\n",
        "10. Text - text of the review\n",
        "\n",
        "Out of above attributes we will consider <strong>Score as Y or Output variable</strong>, and  <strong>Summary as X or data points.</strong>\n",
        "\n"
      ]
    },
    {
      "cell_type": "markdown",
      "metadata": {
        "id": "k-jILFkZH560",
        "colab_type": "text"
      },
      "source": [
        "### Import Libraries"
      ]
    },
    {
      "cell_type": "code",
      "metadata": {
        "id": "H6esEgiNH563",
        "colab_type": "code",
        "outputId": "a0ce4426-a3e6-4646-8267-45af992e2cd1",
        "colab": {
          "base_uri": "https://localhost:8080/",
          "height": 69
        }
      },
      "source": [
        "%matplotlib inline\n",
        "import numpy as np\n",
        "import pandas as pd\n",
        "import timeit\n",
        "from sklearn.metrics import accuracy_score\n",
        "from IPython.display import HTML\n",
        "import matplotlib.pyplot as plt\n",
        "from sklearn import model_selection\n",
        "import pickle\n",
        "import sqlite3\n",
        "import nltk\n",
        "from nltk.corpus import stopwords\n",
        "import string\n",
        "from sklearn.feature_extraction.text import CountVectorizer\n",
        "from sklearn import metrics\n",
        "from sklearn.model_selection import train_test_split\n",
        "from nltk.stem.porter import PorterStemmer\n",
        "from nltk.corpus import stopwords\n",
        "nltk.download('punkt') # Required when running in Google Collab "
      ],
      "execution_count": 0,
      "outputs": [
        {
          "output_type": "stream",
          "text": [
            "[nltk_data] Downloading package punkt to /home/jeetu/nltk_data...\n",
            "[nltk_data]   Package punkt is already up-to-date!\n"
          ],
          "name": "stderr"
        },
        {
          "output_type": "execute_result",
          "data": {
            "text/plain": [
              "True"
            ]
          },
          "metadata": {
            "tags": []
          },
          "execution_count": 2
        }
      ]
    },
    {
      "cell_type": "markdown",
      "metadata": {
        "id": "MY84-LTSH57C",
        "colab_type": "text"
      },
      "source": [
        "### 2.  Dataset loading, train test split, print two data points after converting score column into positive, negative class - [5 pts]\n",
        "#### steps :\n",
        " Use score column as the output variable and Summary as the input variable\n",
        " 1. Convert score column as score > 3 - positive class and score <=3 as negative class.\n",
        " 2. Now define train test split as 0.25."
      ]
    },
    {
      "cell_type": "code",
      "metadata": {
        "scrolled": true,
        "id": "kPOlQQU4H57F",
        "colab_type": "code",
        "outputId": "12ad877f-df41-4245-a330-84c5bd3345cf",
        "colab": {
          "base_uri": "https://localhost:8080/",
          "height": 121
        }
      },
      "source": [
        "# connecting to the dataset server to download the amazon fine foods dataset. Do not make any changes to the code below\n",
        "con = sqlite3.connect('datasets/amazon-fine-food-reviews/database.sqlite')\n",
        "messages = pd.read_sql_query(\"\"\"\n",
        "SELECT Score, Summary\n",
        "FROM Reviews\n",
        "\"\"\", con)\n",
        "\n",
        "# the parition function applied threshold on the rating to label a review as 'positive' or 'negative'.\n",
        "def partition(x):\n",
        "    if(x>3):\n",
        "        return 1\n",
        "    else:\n",
        "        return 0\n",
        "   # insert your code here\n",
        "\n",
        "Score = messages['Score']\n",
        "Score = Score.map(partition)\n",
        "Summary = messages['Summary']\n",
        "\n",
        "# call the function to create the train and test splits according to the ratio 75:25\n",
        "# uncomment and complete the line below\n",
        "\n",
        "train_X, test_X, train_y, test_y = train_test_split(Summary, Score, test_size=0.25  )\n",
        "\n",
        "# print an example of the dataset after the labeling process\n",
        "print(messages.head(2))\n",
        "tmp = messages\n",
        "tmp['Score'] = tmp['Score'].map(partition)\n",
        "print(tmp.head(2))"
      ],
      "execution_count": 0,
      "outputs": [
        {
          "output_type": "stream",
          "text": [
            "   Score                Summary\n",
            "0      5  Good Quality Dog Food\n",
            "1      1      Not as Advertised\n",
            "   Score                Summary\n",
            "0      1  Good Quality Dog Food\n",
            "1      0      Not as Advertised\n"
          ],
          "name": "stdout"
        }
      ]
    },
    {
      "cell_type": "code",
      "metadata": {
        "id": "8sqEA2mwH57P",
        "colab_type": "code",
        "colab": {}
      },
      "source": [
        "# do not change make any changes to the code below. This part of the\n",
        "# code removes stop words and transforms all the words and letters\n",
        "# into a uniform representation. Further, it also removes punctuation\n",
        "# marks.\n",
        "stemmer = PorterStemmer()\n",
        "\n",
        "def stem_tokens(tokens, stemmer):\n",
        "    stemmed = []\n",
        "    for item in tokens:\n",
        "        stemmed.append(stemmer.stem(item))\n",
        "    return stemmed\n",
        "\n",
        "def tokenize(text):\n",
        "    tokens = nltk.word_tokenize(text)\n",
        "    stems = stem_tokens(tokens, stemmer)\n",
        "    return ' '.join(stems)\n",
        "\n",
        "intab = string.punctuation\n",
        "outtab = \"                                \"\n",
        "trantab = str.maketrans(intab, outtab)\n",
        "\n",
        "corpus = []\n",
        "count_train_x=0\n",
        "for text in train_X:\n",
        "    count_train_x=count_train_x+1\n",
        "    text = text.lower()\n",
        "    text = text.translate(trantab)\n",
        "    text=tokenize(text)\n",
        "    corpus.append(text)\n",
        "        \n",
        "count_test_x=0\n",
        "test_set=[]\n",
        "for text in test_X:\n",
        "    count_test_x=count_test_x+1\n",
        "    text = text.lower()\n",
        "    text = text.translate(trantab)\n",
        "    text=tokenize(text)\n",
        "    test_set.append(text)\n",
        "\n",
        "count_vect = CountVectorizer()\n",
        "X_train_counts = count_vect.fit_transform(corpus)        \n",
        "X_test_counts = count_vect.transform(test_set)"
      ],
      "execution_count": 0,
      "outputs": []
    },
    {
      "cell_type": "markdown",
      "metadata": {
        "id": "YwuzCm5xH57i",
        "colab_type": "text"
      },
      "source": [
        "### 4. Print before and after using data pre-processing for five data points - [5 pts]\n",
        "For example, following are some outputs that we were able to generate\n",
        "\n",
        " ID | Before preprocessing | After preprocessing \n",
        " -|-|-\n",
        " 45612 | Good Strong Flavor|good strong flavor \n",
        " 180139 | GREAT SIDE DISH | great side dish \n",
        " 541273 | Its agar | it agar \n",
        " 102774 | Great product! | great product\n",
        " 447382 | Love them | love them "
      ]
    },
    {
      "cell_type": "code",
      "metadata": {
        "id": "6FIN74H0H57k",
        "colab_type": "code",
        "outputId": "15cafc84-fb70-47e9-ebb2-f42264c40ccd",
        "colab": {
          "base_uri": "https://localhost:8080/",
          "height": 121
        }
      },
      "source": [
        "# Data before the processing step is stored in the variable train_X \n",
        "# and the processed data is present in corpus. Print randomly 5 \n",
        "# instances to check the success of the processing step. \n",
        "# insert your code here.\n",
        "tempDictonary = {\"Before Processing\" : train_X , 'After preprocessing' : corpus}\n",
        "temp = pd.DataFrame(data=tempDictonary)\n",
        "print(temp.head())"
      ],
      "execution_count": 0,
      "outputs": [
        {
          "output_type": "stream",
          "text": [
            "         Before Processing After preprocessing\n",
            "503189        Great Stuff!         great stuff\n",
            "204694             perfect             perfect\n",
            "317540  Nice Robust flavor  nice robust flavor\n",
            "260838     Soda Stream Mix     soda stream mix\n",
            "277827  Love these sprouts   love these sprout\n"
          ],
          "name": "stdout"
        }
      ]
    },
    {
      "cell_type": "code",
      "metadata": {
        "id": "5qkbfQos-5h0",
        "colab_type": "code",
        "colab": {}
      },
      "source": [
        "\n",
        "# yValues = train_y.values\n",
        "# print(train_y[0:15])\n",
        "# # print(X_train_counts[0:10])\n",
        "# for i in range(0,15):\n",
        "#     print(yValues[i])"
      ],
      "execution_count": 0,
      "outputs": []
    },
    {
      "cell_type": "markdown",
      "metadata": {
        "id": "Twg59UaRH57u",
        "colab_type": "text"
      },
      "source": [
        "### 5. Build a basic decision tree choosing appropriate min_samples_leaf parameter so that tree fits in output cell using Graphviz package [5 pts]\n",
        "Use the decision tree classifier from the sklearn library to learn a decision tree from the training dataet. For now, we would like to only visualize the tree to ensure that we are calling the correct function. Set the min_samples_leaf parameter to a high value (>15000) for learning the tree. This tree will not be accurate, but will be big enough for us to visualize it. Identify the functions in the tree package that will help to visualize the tree and plot it. Below is a sample tree generated when mi_samples_leaf was set to 20000\n",
        "![tree.png](attachment:tree.png)"
      ]
    },
    {
      "cell_type": "code",
      "metadata": {
        "id": "Cn3KPHkKH57x",
        "colab_type": "code",
        "outputId": "86982a44-2b7a-4635-aa6f-df6792866995",
        "colab": {
          "base_uri": "https://localhost:8080/",
          "height": 1000
        }
      },
      "source": [
        "from graphviz import Source\n",
        "from sklearn import tree\n",
        "clf = tree.DecisionTreeClassifier(  criterion = \"entropy\"  , min_samples_leaf= 16000)\n",
        "clf.fit( X_train_counts, train_y)\n",
        "print(\"Accuracy : \" , accuracy_score(train_y , clf.predict(X_train_counts)))\n",
        "Source( tree.export_graphviz(clf, out_file=None, rounded= True, special_characters = False ))\n",
        "# insert your code here"
      ],
      "execution_count": 0,
      "outputs": [
        {
          "output_type": "stream",
          "text": [
            "Accuracy :  0.8037411455645729\n"
          ],
          "name": "stdout"
        },
        {
          "output_type": "execute_result",
          "data": {
            "text/plain": [
              "<graphviz.files.Source at 0x7f640d3bff98>"
            ],
            "image/svg+xml": "<?xml version=\"1.0\" encoding=\"UTF-8\" standalone=\"no\"?>\n<!DOCTYPE svg PUBLIC \"-//W3C//DTD SVG 1.1//EN\"\n \"http://www.w3.org/Graphics/SVG/1.1/DTD/svg11.dtd\">\n<!-- Generated by graphviz version 2.40.1 (20161225.0304)\n -->\n<!-- Title: Tree Pages: 1 -->\n<svg width=\"848pt\" height=\"789pt\"\n viewBox=\"0.00 0.00 847.50 789.00\" xmlns=\"http://www.w3.org/2000/svg\" xmlns:xlink=\"http://www.w3.org/1999/xlink\">\n<g id=\"graph0\" class=\"graph\" transform=\"scale(1 1) rotate(0) translate(4 785)\">\n<title>Tree</title>\n<polygon fill=\"#ffffff\" stroke=\"transparent\" points=\"-4,4 -4,-785 843.5,-785 843.5,4 -4,4\"/>\n<!-- 0 -->\n<g id=\"node1\" class=\"node\">\n<title>0</title>\n<path fill=\"none\" stroke=\"#000000\" d=\"M748,-781C748,-781 610,-781 610,-781 604,-781 598,-775 598,-769 598,-769 598,-725 598,-725 598,-719 604,-713 610,-713 610,-713 748,-713 748,-713 754,-713 760,-719 760,-725 760,-725 760,-769 760,-769 760,-775 754,-781 748,-781\"/>\n<text text-anchor=\"middle\" x=\"679\" y=\"-765.8\" font-family=\"Helvetica,sans-Serif\" font-size=\"14.00\" fill=\"#000000\">X[13784] &lt;= 0.5</text>\n<text text-anchor=\"middle\" x=\"679\" y=\"-750.8\" font-family=\"Helvetica,sans-Serif\" font-size=\"14.00\" fill=\"#000000\">entropy = 0.759</text>\n<text text-anchor=\"middle\" x=\"679\" y=\"-735.8\" font-family=\"Helvetica,sans-Serif\" font-size=\"14.00\" fill=\"#000000\">samples = 426340</text>\n<text text-anchor=\"middle\" x=\"679\" y=\"-720.8\" font-family=\"Helvetica,sans-Serif\" font-size=\"14.00\" fill=\"#000000\">value = [93548, 332792]</text>\n</g>\n<!-- 1 -->\n<g id=\"node2\" class=\"node\">\n<title>1</title>\n<path fill=\"none\" stroke=\"#000000\" d=\"M662,-677C662,-677 524,-677 524,-677 518,-677 512,-671 512,-665 512,-665 512,-621 512,-621 512,-615 518,-609 524,-609 524,-609 662,-609 662,-609 668,-609 674,-615 674,-621 674,-621 674,-665 674,-665 674,-671 668,-677 662,-677\"/>\n<text text-anchor=\"middle\" x=\"593\" y=\"-661.8\" font-family=\"Helvetica,sans-Serif\" font-size=\"14.00\" fill=\"#000000\">X[8819] &lt;= 0.5</text>\n<text text-anchor=\"middle\" x=\"593\" y=\"-646.8\" font-family=\"Helvetica,sans-Serif\" font-size=\"14.00\" fill=\"#000000\">entropy = 0.701</text>\n<text text-anchor=\"middle\" x=\"593\" y=\"-631.8\" font-family=\"Helvetica,sans-Serif\" font-size=\"14.00\" fill=\"#000000\">samples = 401703</text>\n<text text-anchor=\"middle\" x=\"593\" y=\"-616.8\" font-family=\"Helvetica,sans-Serif\" font-size=\"14.00\" fill=\"#000000\">value = [76292, 325411]</text>\n</g>\n<!-- 0&#45;&gt;1 -->\n<g id=\"edge1\" class=\"edge\">\n<title>0&#45;&gt;1</title>\n<path fill=\"none\" stroke=\"#000000\" d=\"M650.8404,-712.9465C643.4158,-703.968 635.3185,-694.1758 627.5972,-684.8385\"/>\n<polygon fill=\"#000000\" stroke=\"#000000\" points=\"630.2928,-682.606 621.2229,-677.13 624.8983,-687.0669 630.2928,-682.606\"/>\n<text text-anchor=\"middle\" x=\"618.865\" y=\"-698.3186\" font-family=\"Helvetica,sans-Serif\" font-size=\"14.00\" fill=\"#000000\">True</text>\n</g>\n<!-- 14 -->\n<g id=\"node15\" class=\"node\">\n<title>14</title>\n<path fill=\"none\" stroke=\"#000000\" d=\"M827.5,-669.5C827.5,-669.5 704.5,-669.5 704.5,-669.5 698.5,-669.5 692.5,-663.5 692.5,-657.5 692.5,-657.5 692.5,-628.5 692.5,-628.5 692.5,-622.5 698.5,-616.5 704.5,-616.5 704.5,-616.5 827.5,-616.5 827.5,-616.5 833.5,-616.5 839.5,-622.5 839.5,-628.5 839.5,-628.5 839.5,-657.5 839.5,-657.5 839.5,-663.5 833.5,-669.5 827.5,-669.5\"/>\n<text text-anchor=\"middle\" x=\"766\" y=\"-654.3\" font-family=\"Helvetica,sans-Serif\" font-size=\"14.00\" fill=\"#000000\">entropy = 0.881</text>\n<text text-anchor=\"middle\" x=\"766\" y=\"-639.3\" font-family=\"Helvetica,sans-Serif\" font-size=\"14.00\" fill=\"#000000\">samples = 24637</text>\n<text text-anchor=\"middle\" x=\"766\" y=\"-624.3\" font-family=\"Helvetica,sans-Serif\" font-size=\"14.00\" fill=\"#000000\">value = [17256, 7381]</text>\n</g>\n<!-- 0&#45;&gt;14 -->\n<g id=\"edge14\" class=\"edge\">\n<title>0&#45;&gt;14</title>\n<path fill=\"none\" stroke=\"#000000\" d=\"M707.4871,-712.9465C717.07,-701.491 727.761,-688.711 737.3559,-677.2412\"/>\n<polygon fill=\"#000000\" stroke=\"#000000\" points=\"740.0646,-679.458 743.7965,-669.5422 734.6955,-674.9666 740.0646,-679.458\"/>\n<text text-anchor=\"middle\" x=\"746.0128\" y=\"-690.7437\" font-family=\"Helvetica,sans-Serif\" font-size=\"14.00\" fill=\"#000000\">False</text>\n</g>\n<!-- 2 -->\n<g id=\"node3\" class=\"node\">\n<title>2</title>\n<path fill=\"none\" stroke=\"#000000\" d=\"M576,-573C576,-573 438,-573 438,-573 432,-573 426,-567 426,-561 426,-561 426,-517 426,-517 426,-511 432,-505 438,-505 438,-505 576,-505 576,-505 582,-505 588,-511 588,-517 588,-517 588,-561 588,-561 588,-567 582,-573 576,-573\"/>\n<text text-anchor=\"middle\" x=\"507\" y=\"-557.8\" font-family=\"Helvetica,sans-Serif\" font-size=\"14.00\" fill=\"#000000\">X[2210] &lt;= 0.5</text>\n<text text-anchor=\"middle\" x=\"507\" y=\"-542.8\" font-family=\"Helvetica,sans-Serif\" font-size=\"14.00\" fill=\"#000000\">entropy = 0.743</text>\n<text text-anchor=\"middle\" x=\"507\" y=\"-527.8\" font-family=\"Helvetica,sans-Serif\" font-size=\"14.00\" fill=\"#000000\">samples = 351232</text>\n<text text-anchor=\"middle\" x=\"507\" y=\"-512.8\" font-family=\"Helvetica,sans-Serif\" font-size=\"14.00\" fill=\"#000000\">value = [74124, 277108]</text>\n</g>\n<!-- 1&#45;&gt;2 -->\n<g id=\"edge2\" class=\"edge\">\n<title>1&#45;&gt;2</title>\n<path fill=\"none\" stroke=\"#000000\" d=\"M564.8404,-608.9465C557.4158,-599.968 549.3185,-590.1758 541.5972,-580.8385\"/>\n<polygon fill=\"#000000\" stroke=\"#000000\" points=\"544.2928,-578.606 535.2229,-573.13 538.8983,-583.0669 544.2928,-578.606\"/>\n</g>\n<!-- 13 -->\n<g id=\"node14\" class=\"node\">\n<title>13</title>\n<path fill=\"none\" stroke=\"#000000\" d=\"M741.5,-565.5C741.5,-565.5 618.5,-565.5 618.5,-565.5 612.5,-565.5 606.5,-559.5 606.5,-553.5 606.5,-553.5 606.5,-524.5 606.5,-524.5 606.5,-518.5 612.5,-512.5 618.5,-512.5 618.5,-512.5 741.5,-512.5 741.5,-512.5 747.5,-512.5 753.5,-518.5 753.5,-524.5 753.5,-524.5 753.5,-553.5 753.5,-553.5 753.5,-559.5 747.5,-565.5 741.5,-565.5\"/>\n<text text-anchor=\"middle\" x=\"680\" y=\"-550.3\" font-family=\"Helvetica,sans-Serif\" font-size=\"14.00\" fill=\"#000000\">entropy = 0.256</text>\n<text text-anchor=\"middle\" x=\"680\" y=\"-535.3\" font-family=\"Helvetica,sans-Serif\" font-size=\"14.00\" fill=\"#000000\">samples = 50471</text>\n<text text-anchor=\"middle\" x=\"680\" y=\"-520.3\" font-family=\"Helvetica,sans-Serif\" font-size=\"14.00\" fill=\"#000000\">value = [2168, 48303]</text>\n</g>\n<!-- 1&#45;&gt;13 -->\n<g id=\"edge13\" class=\"edge\">\n<title>1&#45;&gt;13</title>\n<path fill=\"none\" stroke=\"#000000\" d=\"M621.4871,-608.9465C631.07,-597.491 641.761,-584.711 651.3559,-573.2412\"/>\n<polygon fill=\"#000000\" stroke=\"#000000\" points=\"654.0646,-575.458 657.7965,-565.5422 648.6955,-570.9666 654.0646,-575.458\"/>\n</g>\n<!-- 3 -->\n<g id=\"node4\" class=\"node\">\n<title>3</title>\n<path fill=\"none\" stroke=\"#000000\" d=\"M492,-469C492,-469 354,-469 354,-469 348,-469 342,-463 342,-457 342,-457 342,-413 342,-413 342,-407 348,-401 354,-401 354,-401 492,-401 492,-401 498,-401 504,-407 504,-413 504,-413 504,-457 504,-457 504,-463 498,-469 492,-469\"/>\n<text text-anchor=\"middle\" x=\"423\" y=\"-453.8\" font-family=\"Helvetica,sans-Serif\" font-size=\"14.00\" fill=\"#000000\">X[11831] &lt;= 0.5</text>\n<text text-anchor=\"middle\" x=\"423\" y=\"-438.8\" font-family=\"Helvetica,sans-Serif\" font-size=\"14.00\" fill=\"#000000\">entropy = 0.77</text>\n<text text-anchor=\"middle\" x=\"423\" y=\"-423.8\" font-family=\"Helvetica,sans-Serif\" font-size=\"14.00\" fill=\"#000000\">samples = 327447</text>\n<text text-anchor=\"middle\" x=\"423\" y=\"-408.8\" font-family=\"Helvetica,sans-Serif\" font-size=\"14.00\" fill=\"#000000\">value = [73860, 253587]</text>\n</g>\n<!-- 2&#45;&gt;3 -->\n<g id=\"edge3\" class=\"edge\">\n<title>2&#45;&gt;3</title>\n<path fill=\"none\" stroke=\"#000000\" d=\"M479.4953,-504.9465C472.3159,-496.0578 464.4924,-486.3716 457.019,-477.1188\"/>\n<polygon fill=\"#000000\" stroke=\"#000000\" points=\"459.5727,-474.7102 450.5665,-469.13 454.1271,-479.1086 459.5727,-474.7102\"/>\n</g>\n<!-- 12 -->\n<g id=\"node13\" class=\"node\">\n<title>12</title>\n<path fill=\"none\" stroke=\"#000000\" d=\"M650,-461.5C650,-461.5 534,-461.5 534,-461.5 528,-461.5 522,-455.5 522,-449.5 522,-449.5 522,-420.5 522,-420.5 522,-414.5 528,-408.5 534,-408.5 534,-408.5 650,-408.5 650,-408.5 656,-408.5 662,-414.5 662,-420.5 662,-420.5 662,-449.5 662,-449.5 662,-455.5 656,-461.5 650,-461.5\"/>\n<text text-anchor=\"middle\" x=\"592\" y=\"-446.3\" font-family=\"Helvetica,sans-Serif\" font-size=\"14.00\" fill=\"#000000\">entropy = 0.088</text>\n<text text-anchor=\"middle\" x=\"592\" y=\"-431.3\" font-family=\"Helvetica,sans-Serif\" font-size=\"14.00\" fill=\"#000000\">samples = 23785</text>\n<text text-anchor=\"middle\" x=\"592\" y=\"-416.3\" font-family=\"Helvetica,sans-Serif\" font-size=\"14.00\" fill=\"#000000\">value = [264, 23521]</text>\n</g>\n<!-- 2&#45;&gt;12 -->\n<g id=\"edge12\" class=\"edge\">\n<title>2&#45;&gt;12</title>\n<path fill=\"none\" stroke=\"#000000\" d=\"M534.8322,-504.9465C544.1048,-493.6012 554.4392,-480.9567 563.7437,-469.5724\"/>\n<polygon fill=\"#000000\" stroke=\"#000000\" points=\"566.6885,-471.5 570.3069,-461.5422 561.2685,-467.0701 566.6885,-471.5\"/>\n</g>\n<!-- 4 -->\n<g id=\"node5\" class=\"node\">\n<title>4</title>\n<path fill=\"none\" stroke=\"#000000\" d=\"M408,-365C408,-365 270,-365 270,-365 264,-365 258,-359 258,-353 258,-353 258,-309 258,-309 258,-303 264,-297 270,-297 270,-297 408,-297 408,-297 414,-297 420,-303 420,-309 420,-309 420,-353 420,-353 420,-359 414,-365 408,-365\"/>\n<text text-anchor=\"middle\" x=\"339\" y=\"-349.8\" font-family=\"Helvetica,sans-Serif\" font-size=\"14.00\" fill=\"#000000\">X[8611] &lt;= 0.5</text>\n<text text-anchor=\"middle\" x=\"339\" y=\"-334.8\" font-family=\"Helvetica,sans-Serif\" font-size=\"14.00\" fill=\"#000000\">entropy = 0.799</text>\n<text text-anchor=\"middle\" x=\"339\" y=\"-319.8\" font-family=\"Helvetica,sans-Serif\" font-size=\"14.00\" fill=\"#000000\">samples = 300970</text>\n<text text-anchor=\"middle\" x=\"339\" y=\"-304.8\" font-family=\"Helvetica,sans-Serif\" font-size=\"14.00\" fill=\"#000000\">value = [72864, 228106]</text>\n</g>\n<!-- 3&#45;&gt;4 -->\n<g id=\"edge4\" class=\"edge\">\n<title>3&#45;&gt;4</title>\n<path fill=\"none\" stroke=\"#000000\" d=\"M395.4953,-400.9465C388.3159,-392.0578 380.4924,-382.3716 373.019,-373.1188\"/>\n<polygon fill=\"#000000\" stroke=\"#000000\" points=\"375.5727,-370.7102 366.5665,-365.13 370.1271,-375.1086 375.5727,-370.7102\"/>\n</g>\n<!-- 11 -->\n<g id=\"node12\" class=\"node\">\n<title>11</title>\n<path fill=\"none\" stroke=\"#000000\" d=\"M566,-357.5C566,-357.5 450,-357.5 450,-357.5 444,-357.5 438,-351.5 438,-345.5 438,-345.5 438,-316.5 438,-316.5 438,-310.5 444,-304.5 450,-304.5 450,-304.5 566,-304.5 566,-304.5 572,-304.5 578,-310.5 578,-316.5 578,-316.5 578,-345.5 578,-345.5 578,-351.5 572,-357.5 566,-357.5\"/>\n<text text-anchor=\"middle\" x=\"508\" y=\"-342.3\" font-family=\"Helvetica,sans-Serif\" font-size=\"14.00\" fill=\"#000000\">entropy = 0.231</text>\n<text text-anchor=\"middle\" x=\"508\" y=\"-327.3\" font-family=\"Helvetica,sans-Serif\" font-size=\"14.00\" fill=\"#000000\">samples = 26477</text>\n<text text-anchor=\"middle\" x=\"508\" y=\"-312.3\" font-family=\"Helvetica,sans-Serif\" font-size=\"14.00\" fill=\"#000000\">value = [996, 25481]</text>\n</g>\n<!-- 3&#45;&gt;11 -->\n<g id=\"edge11\" class=\"edge\">\n<title>3&#45;&gt;11</title>\n<path fill=\"none\" stroke=\"#000000\" d=\"M450.8322,-400.9465C460.1048,-389.6012 470.4392,-376.9567 479.7437,-365.5724\"/>\n<polygon fill=\"#000000\" stroke=\"#000000\" points=\"482.6885,-367.5 486.3069,-357.5422 477.2685,-363.0701 482.6885,-367.5\"/>\n</g>\n<!-- 5 -->\n<g id=\"node6\" class=\"node\">\n<title>5</title>\n<path fill=\"none\" stroke=\"#000000\" d=\"M322,-261C322,-261 184,-261 184,-261 178,-261 172,-255 172,-249 172,-249 172,-205 172,-205 172,-199 178,-193 184,-193 184,-193 322,-193 322,-193 328,-193 334,-199 334,-205 334,-205 334,-249 334,-249 334,-255 328,-261 322,-261\"/>\n<text text-anchor=\"middle\" x=\"253\" y=\"-245.8\" font-family=\"Helvetica,sans-Serif\" font-size=\"14.00\" fill=\"#000000\">X[1134] &lt;= 0.5</text>\n<text text-anchor=\"middle\" x=\"253\" y=\"-230.8\" font-family=\"Helvetica,sans-Serif\" font-size=\"14.00\" fill=\"#000000\">entropy = 0.822</text>\n<text text-anchor=\"middle\" x=\"253\" y=\"-215.8\" font-family=\"Helvetica,sans-Serif\" font-size=\"14.00\" fill=\"#000000\">samples = 268311</text>\n<text text-anchor=\"middle\" x=\"253\" y=\"-200.8\" font-family=\"Helvetica,sans-Serif\" font-size=\"14.00\" fill=\"#000000\">value = [68844, 199467]</text>\n</g>\n<!-- 4&#45;&gt;5 -->\n<g id=\"edge5\" class=\"edge\">\n<title>4&#45;&gt;5</title>\n<path fill=\"none\" stroke=\"#000000\" d=\"M310.8404,-296.9465C303.4158,-287.968 295.3185,-278.1758 287.5972,-268.8385\"/>\n<polygon fill=\"#000000\" stroke=\"#000000\" points=\"290.2928,-266.606 281.2229,-261.13 284.8983,-271.0669 290.2928,-266.606\"/>\n</g>\n<!-- 10 -->\n<g id=\"node11\" class=\"node\">\n<title>10</title>\n<path fill=\"none\" stroke=\"#000000\" d=\"M487.5,-253.5C487.5,-253.5 364.5,-253.5 364.5,-253.5 358.5,-253.5 352.5,-247.5 352.5,-241.5 352.5,-241.5 352.5,-212.5 352.5,-212.5 352.5,-206.5 358.5,-200.5 364.5,-200.5 364.5,-200.5 487.5,-200.5 487.5,-200.5 493.5,-200.5 499.5,-206.5 499.5,-212.5 499.5,-212.5 499.5,-241.5 499.5,-241.5 499.5,-247.5 493.5,-253.5 487.5,-253.5\"/>\n<text text-anchor=\"middle\" x=\"426\" y=\"-238.3\" font-family=\"Helvetica,sans-Serif\" font-size=\"14.00\" fill=\"#000000\">entropy = 0.538</text>\n<text text-anchor=\"middle\" x=\"426\" y=\"-223.3\" font-family=\"Helvetica,sans-Serif\" font-size=\"14.00\" fill=\"#000000\">samples = 32659</text>\n<text text-anchor=\"middle\" x=\"426\" y=\"-208.3\" font-family=\"Helvetica,sans-Serif\" font-size=\"14.00\" fill=\"#000000\">value = [4020, 28639]</text>\n</g>\n<!-- 4&#45;&gt;10 -->\n<g id=\"edge10\" class=\"edge\">\n<title>4&#45;&gt;10</title>\n<path fill=\"none\" stroke=\"#000000\" d=\"M367.4871,-296.9465C377.07,-285.491 387.761,-272.711 397.3559,-261.2412\"/>\n<polygon fill=\"#000000\" stroke=\"#000000\" points=\"400.0646,-263.458 403.7965,-253.5422 394.6955,-258.9666 400.0646,-263.458\"/>\n</g>\n<!-- 6 -->\n<g id=\"node7\" class=\"node\">\n<title>6</title>\n<path fill=\"none\" stroke=\"#000000\" d=\"M236,-157C236,-157 98,-157 98,-157 92,-157 86,-151 86,-145 86,-145 86,-101 86,-101 86,-95 92,-89 98,-89 98,-89 236,-89 236,-89 242,-89 248,-95 248,-101 248,-101 248,-145 248,-145 248,-151 242,-157 236,-157\"/>\n<text text-anchor=\"middle\" x=\"167\" y=\"-141.8\" font-family=\"Helvetica,sans-Serif\" font-size=\"14.00\" fill=\"#000000\">X[19997] &lt;= 0.5</text>\n<text text-anchor=\"middle\" x=\"167\" y=\"-126.8\" font-family=\"Helvetica,sans-Serif\" font-size=\"14.00\" fill=\"#000000\">entropy = 0.826</text>\n<text text-anchor=\"middle\" x=\"167\" y=\"-111.8\" font-family=\"Helvetica,sans-Serif\" font-size=\"14.00\" fill=\"#000000\">samples = 251305</text>\n<text text-anchor=\"middle\" x=\"167\" y=\"-96.8\" font-family=\"Helvetica,sans-Serif\" font-size=\"14.00\" fill=\"#000000\">value = [65220, 186085]</text>\n</g>\n<!-- 5&#45;&gt;6 -->\n<g id=\"edge6\" class=\"edge\">\n<title>5&#45;&gt;6</title>\n<path fill=\"none\" stroke=\"#000000\" d=\"M224.8404,-192.9465C217.4158,-183.968 209.3185,-174.1758 201.5972,-164.8385\"/>\n<polygon fill=\"#000000\" stroke=\"#000000\" points=\"204.2928,-162.606 195.2229,-157.13 198.8983,-167.0669 204.2928,-162.606\"/>\n</g>\n<!-- 9 -->\n<g id=\"node10\" class=\"node\">\n<title>9</title>\n<path fill=\"none\" stroke=\"#000000\" d=\"M401.5,-149.5C401.5,-149.5 278.5,-149.5 278.5,-149.5 272.5,-149.5 266.5,-143.5 266.5,-137.5 266.5,-137.5 266.5,-108.5 266.5,-108.5 266.5,-102.5 272.5,-96.5 278.5,-96.5 278.5,-96.5 401.5,-96.5 401.5,-96.5 407.5,-96.5 413.5,-102.5 413.5,-108.5 413.5,-108.5 413.5,-137.5 413.5,-137.5 413.5,-143.5 407.5,-149.5 401.5,-149.5\"/>\n<text text-anchor=\"middle\" x=\"340\" y=\"-134.3\" font-family=\"Helvetica,sans-Serif\" font-size=\"14.00\" fill=\"#000000\">entropy = 0.747</text>\n<text text-anchor=\"middle\" x=\"340\" y=\"-119.3\" font-family=\"Helvetica,sans-Serif\" font-size=\"14.00\" fill=\"#000000\">samples = 17006</text>\n<text text-anchor=\"middle\" x=\"340\" y=\"-104.3\" font-family=\"Helvetica,sans-Serif\" font-size=\"14.00\" fill=\"#000000\">value = [3624, 13382]</text>\n</g>\n<!-- 5&#45;&gt;9 -->\n<g id=\"edge9\" class=\"edge\">\n<title>5&#45;&gt;9</title>\n<path fill=\"none\" stroke=\"#000000\" d=\"M281.4871,-192.9465C291.07,-181.491 301.761,-168.711 311.3559,-157.2412\"/>\n<polygon fill=\"#000000\" stroke=\"#000000\" points=\"314.0646,-159.458 317.7965,-149.5422 308.6955,-154.9666 314.0646,-159.458\"/>\n</g>\n<!-- 7 -->\n<g id=\"node8\" class=\"node\">\n<title>7</title>\n<path fill=\"none\" stroke=\"#000000\" d=\"M150,-53C150,-53 12,-53 12,-53 6,-53 0,-47 0,-41 0,-41 0,-12 0,-12 0,-6 6,0 12,0 12,0 150,0 150,0 156,0 162,-6 162,-12 162,-12 162,-41 162,-41 162,-47 156,-53 150,-53\"/>\n<text text-anchor=\"middle\" x=\"81\" y=\"-37.8\" font-family=\"Helvetica,sans-Serif\" font-size=\"14.00\" fill=\"#000000\">entropy = 0.823</text>\n<text text-anchor=\"middle\" x=\"81\" y=\"-22.8\" font-family=\"Helvetica,sans-Serif\" font-size=\"14.00\" fill=\"#000000\">samples = 234169</text>\n<text text-anchor=\"middle\" x=\"81\" y=\"-7.8\" font-family=\"Helvetica,sans-Serif\" font-size=\"14.00\" fill=\"#000000\">value = [60300, 173869]</text>\n</g>\n<!-- 6&#45;&gt;7 -->\n<g id=\"edge7\" class=\"edge\">\n<title>6&#45;&gt;7</title>\n<path fill=\"none\" stroke=\"#000000\" d=\"M136.6796,-88.9777C128.519,-79.8207 119.6892,-69.9129 111.5179,-60.744\"/>\n<polygon fill=\"#000000\" stroke=\"#000000\" points=\"114.1042,-58.3854 104.838,-53.2485 108.8783,-63.0427 114.1042,-58.3854\"/>\n</g>\n<!-- 8 -->\n<g id=\"node9\" class=\"node\">\n<title>8</title>\n<path fill=\"none\" stroke=\"#000000\" d=\"M315.5,-53C315.5,-53 192.5,-53 192.5,-53 186.5,-53 180.5,-47 180.5,-41 180.5,-41 180.5,-12 180.5,-12 180.5,-6 186.5,0 192.5,0 192.5,0 315.5,0 315.5,0 321.5,0 327.5,-6 327.5,-12 327.5,-12 327.5,-41 327.5,-41 327.5,-47 321.5,-53 315.5,-53\"/>\n<text text-anchor=\"middle\" x=\"254\" y=\"-37.8\" font-family=\"Helvetica,sans-Serif\" font-size=\"14.00\" fill=\"#000000\">entropy = 0.865</text>\n<text text-anchor=\"middle\" x=\"254\" y=\"-22.8\" font-family=\"Helvetica,sans-Serif\" font-size=\"14.00\" fill=\"#000000\">samples = 17136</text>\n<text text-anchor=\"middle\" x=\"254\" y=\"-7.8\" font-family=\"Helvetica,sans-Serif\" font-size=\"14.00\" fill=\"#000000\">value = [4920, 12216]</text>\n</g>\n<!-- 6&#45;&gt;8 -->\n<g id=\"edge8\" class=\"edge\">\n<title>6&#45;&gt;8</title>\n<path fill=\"none\" stroke=\"#000000\" d=\"M197.6729,-88.9777C205.9285,-79.8207 214.8609,-69.9129 223.1272,-60.744\"/>\n<polygon fill=\"#000000\" stroke=\"#000000\" points=\"225.7883,-63.0193 229.8848,-53.2485 220.5892,-58.3321 225.7883,-63.0193\"/>\n</g>\n</g>\n</svg>\n"
          },
          "metadata": {
            "tags": []
          },
          "execution_count": 11
        }
      ]
    },
    {
      "cell_type": "code",
      "metadata": {
        "id": "6aTp98C1nqC0",
        "colab_type": "code",
        "colab": {}
      },
      "source": [
        "def plot_accuracy(test_accuracy_list,train_accuracy_list, x_axis_values ,xlabel, ylabel, title):\n",
        "    fig = plt.figure()\n",
        "    ax=fig.add_subplot(111)\n",
        "    plt.title( title , fontsize=18)\n",
        "    plt.xlabel(xlabel, fontsize=16)\n",
        "    plt.ylabel(ylabel, fontsize=16)\n",
        "    ax.plot(x_axis_values, test_accuracy_list , marker = \"o\" , label=\"Test\")\n",
        "    ax.plot(x_axis_values, train_accuracy_list , marker =\"o\" , label=\"Train\")\n",
        "    plt.legend(loc=2)\n",
        "    plt.show()    \n",
        "    # insert your code here\n",
        "    \n"
      ],
      "execution_count": 0,
      "outputs": []
    },
    {
      "cell_type": "markdown",
      "metadata": {
        "id": "LK_qtChpH58C",
        "colab_type": "text"
      },
      "source": [
        "### 6. Experiments with different tree parameters\n",
        "#### a. minimum number of samples in a node.  [5 pts]\n",
        "By now we should have all the code in place for learning accurate decision trees. As we discussed in the class, one method to prevent overfitting a decision tree is to put constraints on the number of samples assigned to a split node during training. We had used this parameter to learn extremely short decision trees in the previous step. Let us now vary this parameter and investigate the impact on the train and test accuracy of the model. \n",
        "The first part of the code should loop around different values for min_samples_split and save the resulting train and test accuracy. In the second part, plot a graph with x-axis being the number of samples in the node and accuracy being the y axis. Plot both the train and test accuracies in the same figure. Write a generic function for the plotting as we will use it later for other visualizations."
      ]
    },
    {
      "cell_type": "code",
      "metadata": {
        "id": "2_AbgKq5H58F",
        "colab_type": "code",
        "outputId": "1f93750c-fa38-4e84-9f74-33371acb0fa0",
        "colab": {
          "base_uri": "https://localhost:8080/",
          "height": 341
        }
      },
      "source": [
        "test_accuracy_list=[]\n",
        "train_accuracy_list=[]\n",
        "min_samples_split = [10,50,100,200]\n",
        "\n",
        "for i in min_samples_split:\n",
        "    # Build Tree \n",
        "    clf = tree.DecisionTreeClassifier( min_samples_split= i)\n",
        "    clf.fit(X_train_counts, train_y) # Fit Tree\n",
        "\n",
        "    #Accuracy\n",
        "    train_accuracy = accuracy_score( train_y , clf.predict( X_train_counts ))\n",
        "    test_accuracy = accuracy_score( test_y , clf.predict( X_test_counts ))\n",
        "    \n",
        "    test_accuracy_list.append(test_accuracy)\n",
        "    train_accuracy_list.append(train_accuracy)\n",
        "    # insert your code here\n",
        "\n",
        "print(train_accuracy_list)\n",
        "print(test_accuracy_list)\n",
        "\n",
        "def plot_accuracy(test_accuracy_list,train_accuracy_list, x_axis_values ,xlabel, ylabel, title):\n",
        "    fig = plt.figure()\n",
        "    ax=fig.add_subplot(111)\n",
        "    plt.title( title , fontsize=18)\n",
        "    plt.xlabel(xlabel, fontsize=16)\n",
        "    plt.ylabel(ylabel, fontsize=16)\n",
        "    ax.plot(x_axis_values, test_accuracy_list , marker = \"o\" , label=\"Test\")\n",
        "    ax.plot(x_axis_values, train_accuracy_list , marker =\"o\" , label=\"Train\")\n",
        "    plt.legend(loc=2)\n",
        "    plt.show()    \n",
        "    # insert your code here\n",
        "    \n",
        "plot_accuracy(test_accuracy_list,train_accuracy_list, min_samples_split, \"min_samples_split\", \"Accuracy\", \"Impact of min_sample_split\")"
      ],
      "execution_count": 0,
      "outputs": [
        {
          "output_type": "stream",
          "text": [
            "[0.97141952432331, 0.9524792419195947, 0.9431392785101093, 0.933330205938922]\n",
            "[0.9163207002828715, 0.9111980522678976, 0.907961214236458, 0.9043866191930422]\n"
          ],
          "name": "stdout"
        },
        {
          "output_type": "display_data",
          "data": {
            "image/png": "[encoded data removed]",
            "text/plain": [
              "<Figure size 432x288 with 1 Axes>"
            ]
          },
          "metadata": {
            "tags": []
          }
        }
      ]
    },
    {
      "cell_type": "markdown",
      "metadata": {
        "id": "8oAxjX3jSh8y",
        "colab_type": "text"
      },
      "source": [
        "## Observtion :\n",
        "On increasing the min samples split, is the measure of whether grow the tree furtherfrom a particular node or not. On increasing this value, depth of tree decreases. So, we are not able to fit a more complicated function, hence training accuracy decreases. And test accuracy also decreases in our case, as due to not fitting of complex function which were essential for classification of the data. "
      ]
    },
    {
      "cell_type": "markdown",
      "metadata": {
        "id": "TgnUio78H58S",
        "colab_type": "text"
      },
      "source": [
        "#### b. maximum number of leaf nodes in the tree [5 pts]\n",
        "The tree learner has a parameter max_leaf_nodes. Discuss the role of this parameter during the tree learning. Investigate the impact of this parameter on the train and test accuracy."
      ]
    },
    {
      "cell_type": "code",
      "metadata": {
        "id": "Xx24CCD9H58U",
        "colab_type": "code",
        "outputId": "0c8b098f-f836-4eb8-ee5f-9581a2a09499",
        "colab": {
          "base_uri": "https://localhost:8080/",
          "height": 306
        }
      },
      "source": [
        "test_accuracy_list=[]\n",
        "train_accuracy_list=[]\n",
        "max_leaf_nodes=1000\n",
        "step_size_2=50\n",
        "for i in range(2, max_leaf_nodes,step_size_2):\n",
        "    # insert your code here\n",
        "    clf = tree.DecisionTreeClassifier( max_leaf_nodes= i)\n",
        "    clf.fit(X_train_counts, train_y) # Fit Tree\n",
        "\n",
        "    #Accuracy\n",
        "    train_accuracy = accuracy_score( train_y , clf.predict( X_train_counts ))\n",
        "    test_accuracy = accuracy_score( test_y , clf.predict( X_test_counts ))\n",
        "    \n",
        "    test_accuracy_list.append(test_accuracy)\n",
        "    train_accuracy_list.append(train_accuracy)\n",
        "\n",
        "x_axis_values = list(range(2, max_leaf_nodes,step_size_2))\n",
        "plot_accuracy(test_accuracy_list, train_accuracy_list, x_axis_values ,\"max_leaf_nodes\", \"Accuracy\", \"Impact of max_leaf_nodes\")"
      ],
      "execution_count": 0,
      "outputs": [
        {
          "output_type": "display_data",
          "data": {
            "image/png": "[encoded data removed]",
            "text/plain": [
              "<Figure size 432x288 with 1 Axes>"
            ]
          },
          "metadata": {
            "tags": []
          }
        }
      ]
    },
    {
      "cell_type": "markdown",
      "metadata": {
        "id": "ACe8lxvLTDsj",
        "colab_type": "text"
      },
      "source": [
        "## Observarion \n",
        "Max leaf nodes denotes the maximum number of leaf nodes that the tree can hold. On increasing the number of leaf nodes, our training accuracy increases as we are able to fit more complex functions. Also, our test accuracy increased, as more complex function will catch the charactestics of instance space essential for classification. However, on increasing this too much, may overfit the model, but this didn't happen in our case."
      ]
    },
    {
      "cell_type": "markdown",
      "metadata": {
        "id": "Q6gVtRwYH58c",
        "colab_type": "text"
      },
      "source": [
        "#### c. splitting criteria [5 pts]\n",
        "Identify the default splitting critera and experiment with other criterion implemented in the tree package. Report the accuracy on the test dataset as well as other parameters chracterizing the learned decision tree. "
      ]
    },
    {
      "cell_type": "code",
      "metadata": {
        "id": "YMjxuQkwH58f",
        "colab_type": "code",
        "outputId": "ba0c10cf-6059-4ac2-d9a6-9a156e3a49b3",
        "colab": {
          "base_uri": "https://localhost:8080/",
          "height": 443
        }
      },
      "source": [
        "test_accuracy_list=[]\n",
        "train_accuracy_list=[]\n",
        "\n",
        "time_taken = []\n",
        "splitting_criteria = [\"gini\",\"entropy\"]\n",
        "for i in range(2):\n",
        "    # insert your code here\n",
        "    clf = tree.DecisionTreeClassifier(criterion=splitting_criteria[i])\n",
        "    start = timeit.default_timer()\n",
        "    clf.fit(X_train_counts, train_y) # Fit Tree\n",
        "    stop = timeit.default_timer()\n",
        "    \n",
        "\n",
        "    #Accuracy\n",
        "    train_accuracy = accuracy_score( train_y , clf.predict( X_train_counts ))\n",
        "    test_accuracy = accuracy_score( test_y , clf.predict( X_test_counts ))\n",
        "    time_taken.append(stop-start)\n",
        "    test_accuracy_list.append(test_accuracy)\n",
        "    train_accuracy_list.append(train_accuracy)\n",
        "\n",
        "x_axis_values = [\"gini(default)\", \"entropy\"]\n",
        "plot_accuracy(test_accuracy_list, train_accuracy_list, x_axis_values , \"Splitting Criteria\", \"Accuracy\", \"Impact of Splitter Criteria\")\n",
        "print (\"Default Criterion - Gini\\n\")\n",
        "print (\"Criterion - gini :\\n\\t Train Accuracy : {} \\tTest Accuracy: {}\".format(train_accuracy_list[0] , test_accuracy_list[0]))\n",
        "print (\"Criterion - entropy :\\n\\tTrain Accuracy : {} \\tTest Accuracy: {}\".format(train_accuracy_list[1] , test_accuracy_list[1]))\n",
        "print(\"Training Time Gini : \", time_taken[0])\n",
        "print(\"Training Time Entropy : \", time_taken[1])"
      ],
      "execution_count": 0,
      "outputs": [
        {
          "output_type": "display_data",
          "data": {
            "text/plain": [
              "<Figure size 432x288 with 1 Axes>"
            ],
            "image/png": "[encoded data removed]"
          },
          "metadata": {
            "tags": [],
            "needs_background": "light"
          }
        },
        {
          "output_type": "stream",
          "text": [
            "Default Criterion - Gini\n",
            "\n",
            "Criterion - gini :\n",
            "\t Train Accuracy : 0.9850682553830277 \tTest Accuracy: 0.9152300265983647\n",
            "Criterion - entropy :\n",
            "\tTrain Accuracy : 0.9850682553830277 \tTest Accuracy: 0.9163629199093686\n",
            "Training Time Gini :  165.0327480550004\n",
            "Training Time Entropy :  139.68717302200093\n"
          ],
          "name": "stdout"
        }
      ]
    },
    {
      "cell_type": "markdown",
      "metadata": {
        "id": "C-O9xq5jTeRb",
        "colab_type": "text"
      },
      "source": [
        "### Obseration :\n",
        "Criteria - function to measure the quality of a split. Gini impurity and Information Gain Entropy are pretty much the same. And people do use the values interchangeably. However gini is faster than entropy beacuse we do not need to compute logarithmic function, which is difficult to calculate computationally. "
      ]
    },
    {
      "cell_type": "markdown",
      "metadata": {
        "id": "MC6nfUuLH58o",
        "colab_type": "text"
      },
      "source": [
        "#### d. depth of the decision tree [5 pts]\n",
        "Investigate the impact of depth of the decision tree on the test accuracy"
      ]
    },
    {
      "cell_type": "code",
      "metadata": {
        "id": "80vGks03H58q",
        "colab_type": "code",
        "outputId": "a4a1f25a-b761-44ac-c46f-36468aa76b1e",
        "colab": {
          "base_uri": "https://localhost:8080/",
          "height": 304
        }
      },
      "source": [
        "test_accuracy_list=[]\n",
        "train_accuracy_list=[]\n",
        "maximum_depth=1000\n",
        "step_size=50\n",
        "for i in range(1, maximum_depth,step_size):\n",
        "    # insert your code here\n",
        "    clf = tree.DecisionTreeClassifier(max_depth= i)\n",
        "    clf.fit(X_train_counts, train_y) # Fit Tree\n",
        "\n",
        "    #Accuracy\n",
        "    train_accuracy = accuracy_score( train_y , clf.predict( X_train_counts ))\n",
        "    test_accuracy = accuracy_score( test_y , clf.predict( X_test_counts ))\n",
        "    \n",
        "    test_accuracy_list.append(test_accuracy)\n",
        "    train_accuracy_list.append(train_accuracy)\n",
        "\n",
        "x_axis_values = list(range(1, maximum_depth,step_size))\n",
        "plot_accuracy(test_accuracy_list, train_accuracy_list, x_axis_values , \"Maximum Depth\", \"Accuracy\", \"Impact of Depth\")"
      ],
      "execution_count": 0,
      "outputs": [
        {
          "output_type": "display_data",
          "data": {
            "image/png": "[encoded data removed]",
            "text/plain": [
              "<Figure size 432x288 with 1 Axes>"
            ]
          },
          "metadata": {
            "tags": []
          }
        }
      ]
    },
    {
      "cell_type": "markdown",
      "metadata": {
        "id": "nZejsli5UXL7",
        "colab_type": "text"
      },
      "source": [
        "### Observation \n",
        "Tree depth determines how flexible the model is. A deeper tree can fit more complicated functions. Therefore, increasing tree depth should increase performance on the training set. But, increased flexibility also gives greater ability to overfit the data, and generalization performance may suffer if depth is increased too far. But however, it does not happen in our case as we haven't decreased the depth so much."
      ]
    },
    {
      "cell_type": "markdown",
      "metadata": {
        "id": "qPy-INcVH58w",
        "colab_type": "text"
      },
      "source": [
        "### 7. Random forest\n",
        "Now, let us explore an ensemble of decision trees - random forest. Fortunately, sklearn has an ensemble library containing the random forest classifier. Let us learn a random forest using both instance and feature bagging independently.\n",
        "\n",
        "----\n",
        "#### a. briefly describe the input parameters to the random forest classifier [5 pts]\n",
        "\n",
        "## Input Parameters of Random Forest:\n",
        "\n",
        "### 1. n_estimators : \n",
        ">It sets the numner of trees present in the forest. Default value of n_estimator is 100.\n",
        "\n",
        "### 2. criterion : \n",
        ">It specifies the splitting function to be used. 'gini', is the default splitting criteria. We can set the criterion to 'entropy', if we wish to use information gain as the measure of splitting quality.\n",
        "\n",
        "### 3. max_depth : \n",
        ">The maximum depth the tree can grow. If not set, then nodes expand till all leaves are pure or until all leaves contains less than min_samples_split samples.\n",
        "\n",
        "### 4. min_samples_split :\n",
        ">The minimum number of samples required to split an internal node. The default value of min_samples_split is 2. \n",
        "\n",
        "### 5. min_samples_leaf : \n",
        ">The minimum number of samples required to be a leaf node. The default value of min_samples_leaf is 1.A split will consider valid only if it leaves atleast min_samples_leaf training samples in each left and right brach.\n",
        "\n",
        "### 6. max_samples \n",
        ">The number of samples to draw from the input to train the classifier. By default it draws input_size samples for training. \n",
        "\n",
        "### 7. n_jobs \n",
        "> The number of jobs to run in parallel. By default, one job is run. We can set this value to -1 to make use of all available processors. \n",
        "\n",
        "### 8. bootstrap \n",
        ">It specifies whether we want to use bootstrap the samples for building the tree or not. If set to false , the whole dataset is used to build each tree.\n",
        "\n",
        "### 9. min_impurity_decrease \n",
        "> A node will be split if this split decreases the impurity by atleast this value.  \n",
        "\n",
        "\n",
        "### 10. class_weight \n",
        "> This parameter us used when we want to assign some weight to the classes. Default weight 1 is assinged to all the class otherwise.\n",
        "\n",
        "### 11. max_features \n",
        "> The number of features to consider when looking for the best split. \n",
        "By default sqrt(len(features)) is used for training.\n",
        "\n",
        "### 12. max_leaf_nodes\n",
        "> In the final tree, only best max_leaf_nodes will be taken and others will be rejected. Default value is 'None', which means reject none of the leaf nodes.  \n",
        "\n",
        "Other parameters are random_state, ccp_alpha, warm_start, verbose.\n",
        "\n",
        "----\n",
        "  \n",
        "  \n",
        "  \n",
        "  \n",
        "  \n",
        "\n",
        "#### b. instance bagging [10 pts]\n",
        "As discussed in the class, instances are sampled with replacement to create multiple synthetic training sets. Decision tree is learned for every training set. An ensemble strategy (majority voting) is applied on the output of all the trees for a test instance. Let us vary the number of instances in each bag to learn the random forest and check if there is impact on the performance of the ensemble. "
      ]
    },
    {
      "cell_type": "code",
      "metadata": {
        "id": "XIKSlFHfH58z",
        "colab_type": "code",
        "outputId": "994aa11d-c45d-45f5-8b4e-2114fe1d48e8",
        "colab": {
          "base_uri": "https://localhost:8080/",
          "height": 304
        }
      },
      "source": [
        "import sklearn\n",
        "from sklearn.ensemble import RandomForestClassifier\n",
        "import random\n",
        "test_accuracy_list=[]\n",
        "train_accuracy_list=[]\n",
        "number_of_instances = [1000,5000,10000,20000]\n",
        "\n",
        "\n",
        "for i in number_of_instances:\n",
        "    clf = RandomForestClassifier( criterion = \"entropy\"  , n_jobs = -1 , bootstrap = True, max_samples = i)\n",
        "    clf.fit(X_train_counts, train_y)\n",
        "\n",
        "    train_accuracy = accuracy_score( train_y , clf.predict( X_train_counts ))\n",
        "    test_accuracy = accuracy_score( test_y , clf.predict( X_test_counts ))\n",
        "    \n",
        "    test_accuracy_list.append(test_accuracy)\n",
        "    train_accuracy_list.append(train_accuracy)\n",
        "    # insert your code here\n",
        "    # clf = RandomForestClassifier(nu)\n",
        "\n",
        "plot_accuracy(test_accuracy_list, train_accuracy_list, number_of_instances, \"Instance Count\", \"Accuracy\", \"Accuracy wrt Instance Count\")"
      ],
      "execution_count": 0,
      "outputs": [
        {
          "output_type": "display_data",
          "data": {
            "image/png": "[encoded data removed]",
            "text/plain": [
              "<Figure size 432x288 with 1 Axes>"
            ]
          },
          "metadata": {
            "tags": []
          }
        }
      ]
    },
    {
      "cell_type": "markdown",
      "metadata": {
        "id": "SMPTgQONU8e8",
        "colab_type": "text"
      },
      "source": [
        "### Observation \n",
        "\n",
        "On increasing the max number of samples used for training, our train accuracy goes higher (Note : Our data is less noisy), so the effect of outliers will get dampened. Test accuracy also increases as each tree is trained with more number of sample, i.e trees are more stronger in their capability of classifying the data."
      ]
    },
    {
      "cell_type": "markdown",
      "metadata": {
        "id": "yyi-anpAH587",
        "colab_type": "text"
      },
      "source": [
        "#### c. feature bagging [10 pts]\n",
        "For performing feature bagging, we sample a subset of features from the initial set of features. A decision tree is learned for every training set that contains all the instances characterized by a subset of features. An ensemble strategy is applied for classifying a test instance. In this experiment we will investigate the impact of varying the number of features bagged on the test accuracy."
      ]
    },
    {
      "cell_type": "code",
      "metadata": {
        "id": "26pAN__1H58-",
        "colab_type": "code",
        "outputId": "d3532b47-1b08-4922-c8ef-27c99250047c",
        "colab": {
          "base_uri": "https://localhost:8080/",
          "height": 321
        }
      },
      "source": [
        "test_accuracy_list=[]\n",
        "train_accuracy_list=[]\n",
        "number_of_features = [1000,10000,15000,20000]\n",
        "\n",
        "# By Defaul number of features = sqrt (sample size)\n",
        "#Bootstrap = False, to make use entire data for training \n",
        "for i in number_of_features:\n",
        "    clf = RandomForestClassifier( criterion = \"entropy\" , n_estimators =20 , n_jobs = -1 , bootstrap = False , max_features = i)\n",
        "    clf.fit(X_train_counts, train_y)\n",
        "\n",
        "    train_accuracy = accuracy_score( train_y , clf.predict( X_train_counts ))\n",
        "    test_accuracy = accuracy_score( test_y , clf.predict( X_test_counts ))\n",
        "    \n",
        "    test_accuracy_list.append(test_accuracy)\n",
        "    train_accuracy_list.append(train_accuracy)\n",
        "    # insert your code here\n",
        "\n",
        "    \n",
        "print (\"Defualt number of Features = sqrt (n_features)\")\n",
        "plot_accuracy(test_accuracy_list ,train_accuracy_list, number_of_features, \"Feature Count\", \"Accuracy\", \"Accuracy wrt Feature Count\")"
      ],
      "execution_count": 0,
      "outputs": [
        {
          "output_type": "stream",
          "text": [
            "Defualt number of Features = sqrt (n_features)\n"
          ],
          "name": "stdout"
        },
        {
          "output_type": "display_data",
          "data": {
            "text/plain": [
              "<Figure size 432x288 with 1 Axes>"
            ],
            "image/png": "[encoded data removed]"
          },
          "metadata": {
            "tags": [],
            "needs_background": "light"
          }
        }
      ]
    },
    {
      "cell_type": "markdown",
      "metadata": {
        "id": "FRa_qYzdU_lB",
        "colab_type": "text"
      },
      "source": [
        "## Observation : \n",
        "max_features represents the number of features to consider when looking for the best split. If we increase the max_feature parameters too much, then it will result in overfitting the data as all the features will be inspected before making the split. However, if we decrease it too much, it will result in biasing, because the model will be too simple to capture the realtion between inputs and outputs. It is suggested to use sqrt(n_sample) i.e 1000 in our case to get the best training accuracy. The train accuracy remians highest and almost same for all the cases, as our model is already overfitted and connot go any higher. "
      ]
    },
    {
      "cell_type": "markdown",
      "metadata": {
        "id": "vMHTI8LAH59E",
        "colab_type": "text"
      },
      "source": [
        "#### d. number of trees in the forest [10 pts]\n",
        "Finally let us vary the number of trees in the random forest. We will use the default random forest classifier and only vary the number of trees learned in the ensemble. Again make your observations on the test accuracy as the number of trees are varied."
      ]
    },
    {
      "cell_type": "code",
      "metadata": {
        "scrolled": true,
        "id": "wEIy1dTrH59G",
        "colab_type": "code",
        "outputId": "e5cc3a5b-a0ef-49ae-8605-fc11eaf5546b",
        "colab": {
          "base_uri": "https://localhost:8080/",
          "height": 321
        }
      },
      "source": [
        "test_accuracy_list=[]\n",
        "train_accuracy_list=[]\n",
        "number_of_trees = [1,2,5,10,50]\n",
        "\n",
        "# Sub Sample Size = Original Input Size \n",
        "# Bootrstap = False, To forece use entire dataset to build each tree \n",
        "for i in number_of_trees:\n",
        "    clf = RandomForestClassifier(n_estimators =  i , criterion = \"entropy\"  , n_jobs = -1 , bootstrap = False)\n",
        "    clf.fit(X_train_counts, train_y)\n",
        "\n",
        "    train_accuracy = accuracy_score( train_y , clf.predict( X_train_counts ))\n",
        "    test_accuracy = accuracy_score( test_y , clf.predict( X_test_counts ))\n",
        "    \n",
        "    test_accuracy_list.append(test_accuracy)\n",
        "    train_accuracy_list.append(train_accuracy)\n",
        "    \n",
        "print(\"Default Number of trees = 100\")\n",
        "plot_accuracy(test_accuracy_list ,train_accuracy_list, number_of_trees,  \"Number of Trees\", \"Accuracy\", \"Impact of Tree Count\")"
      ],
      "execution_count": 0,
      "outputs": [
        {
          "output_type": "stream",
          "text": [
            "Default Number of trees = 100\n"
          ],
          "name": "stdout"
        },
        {
          "output_type": "display_data",
          "data": {
            "image/png": "[encoded data removed]",
            "text/plain": [
              "<Figure size 432x288 with 1 Axes>"
            ]
          },
          "metadata": {
            "tags": []
          }
        }
      ]
    },
    {
      "cell_type": "markdown",
      "metadata": {
        "id": "85omGKLxVDBV",
        "colab_type": "text"
      },
      "source": [
        "### Observation \n",
        "On increasing the number of trees in forest, the accuracy increases, and finally it gets plateaud. Because the error caused by a overfitting/underfitting of a single tree gets averaged out. It decreased for n=2, as in case of conflicting majority, both trees have voted differently, hence random class was picked as answer."
      ]
    },
    {
      "cell_type": "code",
      "metadata": {
        "id": "dd8Tm-Rnkk7c",
        "colab_type": "code",
        "colab": {}
      },
      "source": [
        ""
      ],
      "execution_count": 0,
      "outputs": []
    }
  ]
}