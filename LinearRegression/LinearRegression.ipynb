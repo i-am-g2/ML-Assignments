{
  "nbformat": 4,
  "nbformat_minor": 0,
  "metadata": {
    "colab": {
      "name": "(Working) Jeetu Kumar - lab_2.ipynb",
      "provenance": [],
      "collapsed_sections": [],
      "machine_shape": "hm"
    },
    "kernelspec": {
      "name": "python3",
      "display_name": "Python 3"
    },
    "accelerator": "TPU"
  },
  "cells": [
    {
      "cell_type": "markdown",
      "metadata": {
        "id": "Ox5bZYB3DNOC",
        "colab_type": "text"
      },
      "source": [
        "# **Lab 2**\n",
        "### Weightage 3%\n",
        "## Linear Regression\n",
        "---\n",
        "Dataset used: \n",
        "  ACS Flammability Limit Computation\n",
        "\n",
        "---\n",
        "\n",
        "\n",
        "\n",
        "Maximum Points in the Lab: 65\n",
        "\n",
        "---\n",
        "Important points to remember :\n",
        "\n",
        "\n",
        "1.  Observations for the experiments should be explained.\n",
        "2. All the code should be submitted in the form of a single Jupyter notebook itself.\n",
        "3. Points for each sub-section are mentioned in the appropriate question.\n",
        "4. Make sure to begin early as a few experiments may consume more time to run.\n",
        "5. You can use Google colab to run in jupyter notebook (https://colab.research.google.com/) How to load data in Google Colab ?(https://towardsdatascience.com/3-ways-to-load-csv-files-into-colab-7c14fcbdcb92)\n",
        "6. The lab must be submitted on Google classroom. The code as well as the accompanying observations should be made part of the python notebook.\n",
        "7. **Code Readability** is very important. Hence use self explanatory variable names and add comments to describe your approach wherever necessary.\n",
        "8. You are expected to submit your **detailed inferences** and not just an error free code.\n",
        "9. The lab is due on **Feb 21st 11.59pm**.\n",
        "10. The lab should be completed **individually**. Students are expected to follow the **honor code** of the class.\n",
        "\n",
        "\n"
      ]
    },
    {
      "cell_type": "code",
      "metadata": {
        "id": "rvZ4obBVCkdx",
        "colab_type": "code",
        "colab": {}
      },
      "source": [
        "# Import necessary libraries\n",
        "\n",
        "import sklearn\n",
        "from sklearn.linear_model import LinearRegression\n",
        "from sklearn.linear_model import Ridge\n",
        "from sklearn.linear_model import Lasso\n",
        "from sklearn.metrics import mean_squared_error\n",
        "from sklearn.preprocessing import normalize\n",
        "from sklearn.model_selection import train_test_split\n",
        "import matplotlib.pyplot as plt\n",
        "import numpy as np\n",
        "import pandas as pd"
      ],
      "execution_count": 0,
      "outputs": []
    },
    {
      "cell_type": "markdown",
      "metadata": {
        "id": "0-AitLgoFqGc",
        "colab_type": "text"
      },
      "source": [
        "Describe the arguments and output of the linear regression function call in sklearn package.\n",
        "\n",
        "\n",
        "\n",
        "---\n",
        "### Parameters :\n",
        "  \n",
        "* fit_intercept  \n",
        "\n",
        "    > This parameters determines whether to calculate the intercept for this model or not. The default value of fit_intercept is 'True'. When the data is centered, we do not need to calculate the intercept.\n",
        "\n",
        "* normalize\n",
        "    > The  default value of this parameter is false. When set to true, it will normalize the features by subtracting the mean and dividing by l2-norm.  \n",
        "    Note : This parameter is ignored when fit intercept is set t\n",
        "\n",
        "* copy_X   \n",
        "    > If set to true, X will be copied, else it may get overwritten. Default : True\n",
        "    \n",
        "\n",
        "* n_jobs  \n",
        "    > The number of CPU's to use for computation. Default value being \"None\" indicates the use of only one CPU core, and -1 means use all the processors.\n",
        "    \n",
        "    \n",
        "### Functions \n",
        "* fit ( X , y , sample_weight )  \n",
        "\n",
        "    Fits the linear model.   \n",
        "        \n",
        "        * X: Training data , i.e. N X M matrix consisting of N training Samples and M features\n",
        "        * Y : N dimensional vector consisting of target values.\n",
        "        * Sample Weight : Individuals weights for each sample (Optional)\n",
        "        \n",
        "* get_params :  \n",
        "\n",
        "    Get the parameters of the estimator. Returns a key value pairs, where key being the parameters name. \n",
        "    \n",
        "        * deep : default = True.  \n",
        "    \n",
        "    \n",
        "* Predict :  \n",
        "    Predict using the model trained. Returns an array of predicted values.\n",
        "    \n",
        "        * X : Input data for prediction, i.e. N X M matrix consisting of N training Samples and M features\n",
        "\n",
        "* score ( X , y , sample_weight)  \n",
        "    Returns the coefficient of determination of R^2 prediction.\n",
        "        * X : Test Samples for evaluation, i.e. N X M matrix consisting of N training Samples and M features. \n",
        "        * y : Actual values for X.\n",
        "        * sample_weights : Individuals weights for each sample (Optional)\n",
        "        \n",
        "* set_params ()  \n",
        "        Input is a dictionary conating the key value pairs. Returns the estimator instance after setting the parameter\n",
        "\n",
        "\n",
        "---\n",
        "\n",
        "\n"
      ]
    },
    {
      "cell_type": "markdown",
      "metadata": {
        "id": "rrzJ2WFeGFZ1",
        "colab_type": "text"
      },
      "source": [
        "We will be using the ACS flammability limit computation dataset for linear regression task. The dataset contains 105 molecular properties of few chemical compounds from which Flammability Limit is to be computed. The following block contains code to read the excel file from the given URL and preprocess the data. **Please don't make any changes to the block below.**"
      ]
    },
    {
      "cell_type": "code",
      "metadata": {
        "id": "lxOnNEVUG0Yk",
        "colab_type": "code",
        "colab": {}
      },
      "source": [
        "\n",
        "# Load the dataset onto a data frame. !! Please dont make any changes !!\n",
        "url = \"https://ndownloader.figshare.com/files/18729491\"\n",
        "data_frame = pd.read_excel(url,encoding='latin-1',skiprows=5)\n",
        "\n",
        "# Necessary attributes converted to numpy arrays\n",
        "target = data_frame.iloc[:,4].to_numpy()\n",
        "input_features = data_frame.iloc[:,6:].to_numpy()\n"
      ],
      "execution_count": 0,
      "outputs": []
    },
    {
      "cell_type": "markdown",
      "metadata": {
        "id": "XSmvKwKtS0eb",
        "colab_type": "text"
      },
      "source": [
        "We have input attributes and output vector ready. Now the first step is to split the entire dataset into training and test subsets. sklearn package provides you a flexible way of doing this. All you need to do is just specify input attributes array, target array and fraction of the test set. Once the split is done, we are ready to train the model and evaluate it. \n",
        "\n",
        "- We would like you to experiment with different test set fractions and comment on how well the model is able to estimate the target value for new test instances? \n",
        "\n",
        "- Also there is another flexibility to tune the intercept term on or off. We would like you to experiment on those possibilities as well.\n",
        "\n",
        "**Note:** Don't forget to explicitly normalize the attributes.\n",
        "\n",
        "---\n",
        "\n",
        "\n",
        "**10 Points** \n",
        "\n",
        "---\n",
        "\n"
      ]
    },
    {
      "cell_type": "code",
      "metadata": {
        "id": "TZhBqxUA5pao",
        "colab_type": "code",
        "colab": {}
      },
      "source": [
        "#Normalisation \n",
        "# Using the built in normalize function in Sklearn \n",
        "input_features = normalize(input_features, norm =\"l1\", axis = 0) \n"
      ],
      "execution_count": 0,
      "outputs": []
    },
    {
      "cell_type": "code",
      "metadata": {
        "id": "hzyj0Ia3V166",
        "colab_type": "code",
        "outputId": "f1f69b5b-8827-4f46-82d8-5c5778733d86",
        "colab": {
          "base_uri": "https://localhost:8080/",
          "height": 232
        }
      },
      "source": [
        "\n",
        "test_size_fractions = [0.2,0.3,0.4,0.5]\n",
        "\n",
        "mse_list = []\n",
        "\n",
        "# Step 1: Create a linear regressor object \n",
        "linearRegressor = LinearRegression()\n",
        "\n",
        "# Step 2: Create a linear regressor object forcing bias or intercept as 0\n",
        "\n",
        "linearRegressor_nonIntercept = LinearRegression(fit_intercept = False)\n",
        "\n",
        "\n",
        "# Experiment with 8 different model setup\n",
        "\n",
        "for fraction in test_size_fractions:\n",
        "    \n",
        "    print(\"Test Size Fraction :\" ,fraction)\n",
        "    # Step 3: Split into train and test set based on the fraction\n",
        "    \n",
        "    X_train, X_test, y_train, y_test = train_test_split( input_features, target, test_size= fraction, random_state = 42)\n",
        "\n",
        "    # Step 4(a): Train the Intercept Linear Regression model using held out training set\n",
        "    \n",
        "    linearRegressor.fit(X_train, y_train)\n",
        "    \n",
        "\n",
        "    # Step 4(b): Predict the target values using the trained model for test set instances\n",
        "    \n",
        "    Y_Pred_test = linearRegressor.predict(X_test)\n",
        "    \n",
        "\n",
        "    # Step 4(c): Print the mean squared error of the model on test data set. Store this value to mse list to find the best model setting.\n",
        "    \n",
        "    mean_sq_error = mean_squared_error(y_test, Y_Pred_test)\n",
        "    mse_list.append(mean_sq_error)\n",
        "    print(\"\\tWith Intercept : \" ,mean_sq_error)\n",
        "    \n",
        "    \n",
        "\n",
        "    # Step 5(a): Train the Non Intercept Linear Regression model using held out training set\n",
        "    \n",
        "    linearRegressor_nonIntercept.fit(X_train, y_train)\n",
        "    \n",
        "    \n",
        "    # Step 5(b): Predict the target values using the trained non intercept for test set instances\n",
        "    \n",
        "    Y_Pred_test_nonIntercept = linearRegressor_nonIntercept.predict(X_test)\n",
        "\n",
        "    # Step 5(c): Print the mean squared error of the non intercept model on test data set. Store this value to mse list to find the best model setting.\n",
        "    \n",
        "    mean_sq_error_nonIntercept = mean_squared_error(y_test, Y_Pred_test_nonIntercept)\n",
        "    print(\"\\tNon Intercept : \",mean_sq_error_nonIntercept)\n",
        "    mse_list.append(mean_sq_error_nonIntercept)\n",
        "\n",
        "# print(mse_list)\n",
        "    \n"
      ],
      "execution_count": 4,
      "outputs": [
        {
          "output_type": "stream",
          "text": [
            "Test Size Fraction : 0.2\n",
            "\tWith Intercept :  3.2557683728552015e+20\n",
            "\tNon Intercept :  0.1870731379304973\n",
            "Test Size Fraction : 0.3\n",
            "\tWith Intercept :  0.11132489970499622\n",
            "\tNon Intercept :  0.23421420043797658\n",
            "Test Size Fraction : 0.4\n",
            "\tWith Intercept :  0.3956608405742713\n",
            "\tNon Intercept :  0.6099881390416336\n",
            "Test Size Fraction : 0.5\n",
            "\tWith Intercept :  0.1299493812595769\n",
            "\tNon Intercept :  0.30782031570089374\n"
          ],
          "name": "stdout"
        }
      ]
    },
    {
      "cell_type": "markdown",
      "metadata": {
        "id": "l8aRGM_afDmY",
        "colab_type": "text"
      },
      "source": [
        "In the previous block you have experimented with different settings of the Linear Regression model. You have test set mean squared error stored. Figure out which setting gave the least mean squared error. \n",
        "\n",
        "---\n",
        "\n",
        "**5 Points**\n",
        "\n",
        "---\n",
        "\n",
        "\n"
      ]
    },
    {
      "cell_type": "code",
      "metadata": {
        "id": "cyFU-GFUhZkB",
        "colab_type": "code",
        "outputId": "4126ca26-e628-4228-8185-ab163e64b16d",
        "colab": {
          "base_uri": "https://localhost:8080/",
          "height": 71
        }
      },
      "source": [
        "# Insert your code to identify the best fraction and intercept requirement. Also, print the best setting chosen.\n",
        "minIndex = mse_list.index(min(mse_list))\n",
        "best_model = LinearRegression()\n",
        "print(\"Best Model\")\n",
        "if (minIndex%2==0):\n",
        "    print(\"\\tFit Intercept = True\")\n",
        "else:\n",
        "    print(\"\\tFit Intercept = False\")\n",
        "    best_model = LinearRegression(fit_intercept = False)\n",
        "best_fraction = test_size_fractions[minIndex//2]\n",
        "print(\"\\tTest Fraction \", test_size_fractions[minIndex//2])"
      ],
      "execution_count": 5,
      "outputs": [
        {
          "output_type": "stream",
          "text": [
            "Best Model\n",
            "\tFit Intercept = True\n",
            "\tTest Fraction  0.3\n"
          ],
          "name": "stdout"
        }
      ]
    },
    {
      "cell_type": "markdown",
      "metadata": {
        "id": "avapzEo6sDcb",
        "colab_type": "text"
      },
      "source": [
        "# Observation \n",
        "Here we see that the best model will be with Fit Intercept = True, indicating that our data is not centered.  \n",
        "And the best split fraction comes out to be 0.3, because if tha fraction is too high then there will be less data for training, resulting in poor performance. But if the test fraction is too low, then there is a chance of overfitting. \n"
      ]
    },
    {
      "cell_type": "markdown",
      "metadata": {
        "id": "mQVehqr9hl6x",
        "colab_type": "text"
      },
      "source": [
        "Now that you have figured out the best model setting, use that setting to train the model to predict test instances.\n",
        "\n",
        "\n",
        "---\n",
        "\n",
        "**3 Points**\n",
        "\n",
        "\n",
        "---\n",
        "\n"
      ]
    },
    {
      "cell_type": "code",
      "metadata": {
        "id": "JJEf7Rg8h7oS",
        "colab_type": "code",
        "outputId": "655ff0c0-3aea-45bb-9bd3-8d44fb511fa1",
        "colab": {
          "base_uri": "https://localhost:8080/",
          "height": 35
        }
      },
      "source": [
        "# Step 1: Split the entire dataset into train and test set based on the best fraction\n",
        "\n",
        "X_train, X_test, y_train, y_test = train_test_split( input_features, target, test_size= best_fraction , random_state = 42)\n",
        "\n",
        "# Step 2: Create a linear regressor object with intercept turned on or off as per best model setting\n",
        "\n",
        "model = best_model\n",
        "\n",
        "\n",
        "# Step 3(a): Train the Linear Regression model using training set\n",
        "model.fit(X_train,y_train)\n",
        "\n",
        "\n",
        "# Step 3(b): Predict the target values using the trained model for test set instances\n",
        "\n",
        "prediction = model.predict(X_test)\n",
        "\n",
        "\n",
        "# Step 3(c): Print the mean squared error of the model on test set. \n",
        "mse = mean_squared_error(y_test, prediction)\n",
        "print (\"Mean Squared Error : \", mse)"
      ],
      "execution_count": 6,
      "outputs": [
        {
          "output_type": "stream",
          "text": [
            "Mean Squared Error :  0.11132489970499622\n"
          ],
          "name": "stdout"
        }
      ]
    },
    {
      "cell_type": "markdown",
      "metadata": {
        "id": "ZHT58sjij0f4",
        "colab_type": "text"
      },
      "source": [
        "Now check the goodness of the model with repsect to prediction on test instances. The aim is to predict the target values for test instances using the trained model. These values would be plotted against the true values of the test instances. A good model would yield a plot that looks *close to a line of slope 45 degree*. **Comment** on the goodness of the learned model using this test.\n",
        "\n",
        "---\n",
        "\n",
        "**5 points** \n",
        "\n",
        "---\n",
        "\n",
        "\n",
        "\n",
        "\n",
        "\n"
      ]
    },
    {
      "cell_type": "code",
      "metadata": {
        "id": "CuDziN7WlJHy",
        "colab_type": "code",
        "outputId": "25567e80-1d6e-485d-d017-2bb5968270ba",
        "colab": {
          "base_uri": "https://localhost:8080/",
          "height": 279
        }
      },
      "source": [
        "def plot_pred_actual(y_test, prediction):\n",
        "    fig, ax = plt.subplots()\n",
        "    ax.scatter(y_test, prediction, marker = \".\")\n",
        "    ax.plot([y_test.min(), y_test.max()], [y_test.min(), y_test.max()], 'k--', lw=2)\n",
        "    ax.set_xlabel('Actual')\n",
        "    ax.set_ylabel('Predicted')\n",
        "    plt.show()\n",
        "\n",
        "plot_pred_actual(y_test, prediction)\n"
      ],
      "execution_count": 7,
      "outputs": [
        {
          "output_type": "display_data",
          "data": {
            "image/png": "[encoded data removed]",
            "text/plain": [
              "<Figure size 432x288 with 1 Axes>"
            ]
          },
          "metadata": {
            "tags": []
          }
        }
      ]
    },
    {
      "cell_type": "markdown",
      "metadata": {
        "id": "OGGhhttRq8wn",
        "colab_type": "text"
      },
      "source": [
        "# Observation :\n",
        "\n",
        "Our plot is near to the 45 degree line indicating our model is good. Also, there are some points too far from the line, which may be a result of outliers, or may be non-linear sepearabiity of our data.\n"
      ]
    },
    {
      "cell_type": "markdown",
      "metadata": {
        "id": "-6jQmj8amZTr",
        "colab_type": "text"
      },
      "source": [
        "You have implemented simple linear regression. You may apply regularization techniques that constrain the coefficients. We will be seeing 2 types of regularized regression techniques:\n",
        "\n",
        "\n",
        "1.   Ridge Regression\n",
        "2.   Lasso Regression\n",
        "\n"
      ]
    },
    {
      "cell_type": "markdown",
      "metadata": {
        "colab_type": "text",
        "id": "sxHV6iP4Mlwg"
      },
      "source": [
        "# Ridge Regression\n",
        "\n",
        "---\n",
        "\n",
        "Describe the arguments and output of the Ridge regression function call in sklearn package.\n",
        "\n",
        "\n",
        "\n",
        "---\n",
        "### Parameters :\n",
        "  \n",
        "* alpha \n",
        "    > Regularization strength; must be a positive float. Regularization improves the conditioning of the problem and reduces the variance of the estimates. Larger values specify stronger regularization. Default Value is 1.0 \n",
        "    \n",
        "* fit_intercept  \n",
        "\n",
        "    > This parameters determines whether to calculate the intercept for this model or not. The default value of fit_intercept is 'True'. When the data is centered, we do not need to calculate the intercept.\n",
        "\n",
        "* normalize\n",
        "    > The  default value of this parameter is false. When set to true, it will normalize the features by subtracting the mean and dividing by l2-norm.  \n",
        "    Note : This parameter is ignored when fit intercept is set t\n",
        "\n",
        "* copy_X   \n",
        "    > If set to true, X will be copied, else it may get overwritten. Default : True\n",
        "    \n",
        "\n",
        "* max_iter\n",
        "    > Maximum number of iterations for conjugate gradient solver. It depends upon the solver used.\n",
        "    \n",
        "* tol\n",
        "    >Precision of the solution. Defualt valuse us 10 ^ -3\n",
        "\n",
        "* random_state\n",
        "    > The seed of the pseudo random number generator to use when shuffling the data.\n",
        "\n",
        "* solver\n",
        "    > Solver to use in the computational routines:\n",
        "    \n",
        "    \n",
        "### Functions \n",
        "* fit ( X , y , sample_weight )  \n",
        "\n",
        "    Fits the linear model.   \n",
        "        \n",
        "        * X: Training data , i.e. N X M matrix consisting of N training Samples and M features\n",
        "        * Y : N dimensional vector consisting of target values.\n",
        "        * Sample Weight : Individuals weights for each sample (Optional)\n",
        "        \n",
        "* get_params :  \n",
        "\n",
        "    Get the parameters of the estimator. Returns a key value pairs, where key being the parameters name. \n",
        "    \n",
        "        * deep : default = True.  \n",
        "    \n",
        "    \n",
        "* Predict :  \n",
        "    Predict using the model trained. Returns an array of predicted values.\n",
        "    \n",
        "        * X : Input data for prediction, i.e. N X M matrix consisting of N training Samples and M features\n",
        "\n",
        "* score ( X , y , sample_weight)  \n",
        "    Returns the coefficient of determination of R^2 prediction.\n",
        "        * X : Test Samples for evaluation, i.e. N X M matrix consisting of N training Samples and M features. \n",
        "        * y : Actual values for X.\n",
        "        * sample_weights : Individuals weights for each sample (Optional)\n",
        "        \n",
        "* set_params ()  \n",
        "        Input is a dictionary conating the key value pairs. Returns the estimator instance after setting the parameter\n",
        "\n",
        "\n",
        "---\n",
        "\n",
        "\n"
      ]
    },
    {
      "cell_type": "code",
      "metadata": {
        "id": "wtvt2f7HV1Ag",
        "colab_type": "code",
        "colab": {}
      },
      "source": [
        "def plot_error(mean_error, x_axis_values ,xlabel, ylabel, title):\n",
        "    fig = plt.figure()\n",
        "    ax=fig.add_subplot(111)\n",
        "    plt.title( title , fontsize=18)\n",
        "    plt.xlabel(xlabel, fontsize=16)\n",
        "    plt.ylabel(ylabel, fontsize=16)\n",
        "    ax.plot(x_axis_values, mean_error , marker = \"o\" , label=\"Error\")\n",
        "    plt.legend(loc='best')\n",
        "    plt.show()    \n",
        "    # insert your \n"
      ],
      "execution_count": 0,
      "outputs": []
    },
    {
      "cell_type": "markdown",
      "metadata": {
        "id": "9Wyr-kOLm-AT",
        "colab_type": "text"
      },
      "source": [
        "\n",
        "\n",
        "\n",
        "In ridge regression, L-2 regularization is applied to the coefficients. You have a hyperparameter alpha which you can vary to control the extent of constraining the coefficients. We would like you to experiment with different values of alpha and comment on the model performance. You may use the best setting of Linear Regression to Ridge Regression also. **Comment** on the effect of the alpha value on the mean squared error.\n",
        "\n",
        "\n",
        "---\n",
        "\n",
        "**9 Points**\n",
        "\n",
        "\n",
        "---\n",
        "\n"
      ]
    },
    {
      "cell_type": "code",
      "metadata": {
        "id": "-2MHw9z8oKVE",
        "colab_type": "code",
        "outputId": "024db29d-78f1-4be5-e646-34a5ca3aec53",
        "colab": {
          "base_uri": "https://localhost:8080/",
          "height": 324
        }
      },
      "source": [
        "\n",
        "alpha_values = [0.01,0.05,0.1,0.25,0.5,0.75,1,1.25,1.5,1.75,2]\n",
        "error_list = []\n",
        "\n",
        "# Step 1: Split into train and test set based on the best fraction\n",
        "\n",
        "X_train, X_test, y_train, y_test = train_test_split( input_features, target, test_size= best_fraction, random_state = 42)\n",
        "pred = []\n",
        "for alpha_ in alpha_values:\n",
        "    \n",
        "\n",
        "    # Step 2: Create a Ridge regressor object with desired alpha value\n",
        "    \n",
        "    regressor = Ridge(alpha = alpha_)\n",
        "\n",
        "    # Step 3(a): Train the Ridge Regression model using training set\n",
        "    \n",
        "    regressor.fit(X_train, y_train)\n",
        "    \n",
        "\n",
        "    # Step 3(b): Predict the target values using the trained Ridge model for test set instances\n",
        "    \n",
        "    prediction_ridge = regressor.predict(X_test)\n",
        "    pred =prediction_ridge\n",
        "\n",
        "    # Step 3(c): Print the mean squared error of the model on test set. Add it to an error list to plot later.\n",
        "    \n",
        "    mse_error = mean_squared_error(y_test, prediction_ridge)\n",
        "    error_list.append(mse_error)\n",
        "\n",
        "\n",
        "# Step 4: Plot a graph of different alpha values of ridge regression versus mean squared error\n",
        "\n",
        "print(error_list)\n",
        "plot_error(error_list, alpha_values, \"alpha_values\" , \"Mean Sqaured Error\", 'MSE Vs ALPHA')\n"
      ],
      "execution_count": 9,
      "outputs": [
        {
          "output_type": "stream",
          "text": [
            "[0.14151336543221862, 0.1669188605681695, 0.17860175315318016, 0.19485202440874783, 0.2056186680092831, 0.21072695039733677, 0.2137519873521327, 0.21576169759697325, 0.21719669930137828, 0.21827377658159033, 0.21911247692764804]\n"
          ],
          "name": "stdout"
        },
        {
          "output_type": "display_data",
          "data": {
            "image/png": "[encoded data removed]",
            "text/plain": [
              "<Figure size 432x288 with 1 Axes>"
            ]
          },
          "metadata": {
            "tags": []
          }
        }
      ]
    },
    {
      "cell_type": "markdown",
      "metadata": {
        "id": "Fb9PNyIHuFUT",
        "colab_type": "text"
      },
      "source": [
        "# Observation \n",
        "\n",
        "As we increase the parameter alpha, our error increases. Because as we increase our alpha the strength of the model to fit complex data decreases (but generalistion incrases). In our case, Stronger model was required for the fitting, and weaker model could not capture the complexity of the data.  Thats  why the mse was increasing"
      ]
    },
    {
      "cell_type": "markdown",
      "metadata": {
        "id": "qNlHlQBPNXLM",
        "colab_type": "text"
      },
      "source": [
        "# Lasso Regression\n",
        "\n",
        "---\n",
        "\n",
        "Describe the arguments and output of the Ridge regression function call in sklearn package.\n",
        "\n",
        "\n",
        "\n",
        "---\n",
        "# LASSO\n",
        "### Parameters :\n",
        "  \n",
        "* alpha \n",
        "    > Constant that multiplies the L1 term. Defaults to 1.0. alpha = 0 is equivalent to an ordinary least square, solved by linear regression techinque. Default Value is 0 \n",
        "    \n",
        "* fit_intercept  \n",
        "\n",
        "    > This parameters determines whether to calculate the intercept for this model or not. The default value of fit_intercept is 'True'. When the data is centered, we do not need to calculate the intercept.\n",
        "\n",
        "* normalize\n",
        "    > The  default value of this parameter is false. When set to true, it will normalize the features by subtracting the mean and dividing by l2-norm.  \n",
        "    Note : This parameter is ignored when fit intercept is set t\n",
        "\n",
        "*\n",
        "\n",
        "* copy_X   \n",
        "    > If set to true, X will be copied, else it may get overwritten. Default : True\n",
        "    \n",
        "\n",
        "* n_jobs  \n",
        "    > The number of CPU's to use for computation. Default value being \"None\" indicates the use of only one CPU core, and -1 means use all the processors.\n",
        "    \n",
        "* max_iter\n",
        "    > Maximum number of iterations for conjugate gradient solver. It depends upon the solver used.\n",
        "    \n",
        "* tol\n",
        "    >Precision of the solution. Defualt valuse us 10 ^ -3\n",
        "\n",
        "* random_state\n",
        "    > The seed of the pseudo random number generator to use when shuffling the data.\n",
        "\n",
        "* solver\n",
        "    > Solver to use in the computational routines:\n",
        "    \n",
        "    \n",
        "### Functions \n",
        "* fit ( X , y , sample_weight )  \n",
        "\n",
        "    Fits the linear model.   \n",
        "        \n",
        "        * X: Training data , i.e. N X M matrix consisting of N training Samples and M features\n",
        "        * Y : N dimensional vector consisting of target values.\n",
        "        * Sample Weight : Individuals weights for each sample (Optional)\n",
        "        \n",
        "* get_params :  \n",
        "\n",
        "    Get the parameters of the estimator. Returns a key value pairs, where key being the parameters name. \n",
        "    \n",
        "        * deep : default = True.  \n",
        "    \n",
        "    \n",
        "* Predict :  \n",
        "    Predict using the model trained. Returns an array of predicted values.\n",
        "    \n",
        "        * X : Input data for prediction, i.e. N X M matrix consisting of N training Samples and M features\n",
        "\n",
        "* score ( X , y , sample_weight)  \n",
        "    Returns the coefficient of determination of R^2 prediction.\n",
        "        * X : Test Samples for evaluation, i.e. N X M matrix consisting of N training Samples and M features. \n",
        "        * y : Actual values for X.\n",
        "        * sample_weights : Individuals weights for each sample (Optional)\n",
        "        \n",
        "* set_params ()  \n",
        "        Input is a dictionary conating the key value pairs. Returns the estimator instance after setting the parameter\n",
        "\n",
        "\n",
        "---\n",
        "\n",
        "\n"
      ]
    },
    {
      "cell_type": "markdown",
      "metadata": {
        "id": "GLj4DffxpM4K",
        "colab_type": "text"
      },
      "source": [
        "In Lasso regression, L-1 regularization is applied to the coefficients. You have a hyperparameter alpha which you can vary to control the extent of constraining the coefficients. We would like you to experiment with different values of alpha and **comment** on the model performance. You may use the best setting of Linear Regression to Lasso Regression also.\n",
        "\n",
        "---\n",
        "\n",
        "**9 Points**\n",
        "\n",
        "---\n",
        "\n"
      ]
    },
    {
      "cell_type": "code",
      "metadata": {
        "id": "FyEtXEX0jZRw",
        "colab_type": "code",
        "outputId": "8772f3eb-13fb-4889-81f7-4180c85d166c",
        "colab": {
          "base_uri": "https://localhost:8080/",
          "height": 344
        }
      },
      "source": [
        "from sklearn import linear_model\n",
        "\n",
        "alpha_values = [0.01,0.05,0.1,0.25,0.5,0.75,1,1.25,1.5,1.75,2]\n",
        "error_list = []\n",
        "\n",
        "# Step 1: Split into train and test set based on the best fraction\n",
        "\n",
        "X_train, X_test, y_train, y_test = train_test_split( input_features, target, test_size= best_fraction, random_state = 42)\n",
        "\n",
        "for alpha_ in alpha_values:\n",
        "\n",
        "    # Step 2: Create a LASSO regressor object with desired alpha value\n",
        "    \n",
        "    regressor = Lasso(alpha= alpha_)\n",
        "    \n",
        "    \n",
        "    # Step 3(a): Train the LASSO Regression model using training set\n",
        "    \n",
        "    regressor.fit(X_train, y_train)\n",
        "    \n",
        "\n",
        "    # Step 3(b): Predict the target values using the trained LASSO model for test set instances\n",
        "    \n",
        "    prediction_lasso = regressor.predict(X_test)\n",
        "\n",
        "    # Step 3(c): Print the mean squared error of the model on test set. Add it to an error list to plot later.\n",
        "    \n",
        "    mse_error = mean_squared_error(y_test, prediction_lasso)\n",
        "    error_list.append(mse_error)\n",
        "\n",
        "\n",
        "# Step 4: Plot a graph of different alpha values of lasso regression versus mean squared error\n",
        "\n",
        "\n",
        "print(error_list)\n",
        "plot_error(error_list, alpha_values, \"alpha_values\" , \"Mean Sqaured Error\", 'MSE Vs ALPHA')"
      ],
      "execution_count": 10,
      "outputs": [
        {
          "output_type": "stream",
          "text": [
            "[0.22589302532218816, 0.22589302532218816, 0.22589302532218816, 0.22589302532218816, 0.22589302532218816, 0.22589302532218816, 0.22589302532218816, 0.22589302532218816, 0.22589302532218816, 0.22589302532218816, 0.22589302532218816]\n"
          ],
          "name": "stdout"
        },
        {
          "output_type": "display_data",
          "data": {
            "image/png": "[encoded data removed]",
            "text/plain": [
              "<Figure size 432x288 with 1 Axes>"
            ]
          },
          "metadata": {
            "tags": []
          }
        }
      ]
    },
    {
      "cell_type": "markdown",
      "metadata": {
        "id": "KQDsdvHPucjB",
        "colab_type": "text"
      },
      "source": [
        "# Observation \n",
        "\n",
        "Increasing the alpha has almost no effect on the MSE. This implies the weights learned by model is tending to zero, so the term alpha * ||w|| ^ 1 can be neglected. This neglecting of the later term is resulting in the same model for each alpha values."
      ]
    },
    {
      "cell_type": "markdown",
      "metadata": {
        "id": "c57NxjM1ucbm",
        "colab_type": "text"
      },
      "source": [
        ""
      ]
    },
    {
      "cell_type": "markdown",
      "metadata": {
        "id": "GaY8yDgjFvwb",
        "colab_type": "text"
      },
      "source": [
        "Now since you have tried LASSO with different alpha values, you may try different number of maximum iterations associated with LASSO and **comment** on its effect on the mean squared error.\n",
        "\n",
        "\n",
        "---\n",
        "\n",
        "**9 Points**\n",
        "\n",
        "---\n",
        "\n"
      ]
    },
    {
      "cell_type": "code",
      "metadata": {
        "id": "51uy4oEqFuBK",
        "colab_type": "code",
        "outputId": "51498304-a346-45a8-8e8e-6e3416fce3c5",
        "colab": {
          "base_uri": "https://localhost:8080/",
          "height": 342
        }
      },
      "source": [
        "\n",
        "# Step 1: Split into train and test set based on the best fraction\n",
        " \n",
        "X_train, X_test, y_train, y_test = train_test_split( input_features, target, test_size= best_fraction, random_state = 42)\n",
        "error_list= []\n",
        "for m_iterations in range(1,200,2):\n",
        "\n",
        "    \n",
        "\n",
        "    # Step 2: Create a LASSO regressor object with desired number of iterations\n",
        "     \n",
        "    regressor = Lasso(alpha = 0.01, max_iter = m_iterations)\n",
        "    \n",
        "    \n",
        "\n",
        "    # Step 3(a): Train the LASSO Regression model using training set\n",
        "     \n",
        "    regressor.fit(X_train, y_train)\n",
        "\n",
        "    # Step 3(b): Predict the target values using the trained LASSO model for test set instances\n",
        "     \n",
        "    prediction_lasso = regressor.predict(X_test)\n",
        "    \n",
        "    \n",
        "    # Step 3(c): Print the mean squared error of the model on test set. Add it to an error list to plot later.\n",
        "     \n",
        "    mse_error = mean_squared_error(y_test, prediction_lasso)\n",
        "    error_list.append(mse_error)\n",
        "    \n",
        "\n",
        "\n",
        "# Step 4: Plot a graph of different alpha values of lasso regression versus mean squared error\n",
        "\n",
        "\n",
        "print(error_list)\n",
        "m_iter_list = list(range(1,200,2))\n",
        "plot_error(error_list, m_iter_list, \"Maximum Iterations\" , \"Mean Sqaured Error\", 'MSE Vs max_iteration')"
      ],
      "execution_count": 11,
      "outputs": [
        {
          "output_type": "stream",
          "text": [
            "[0.22589302532218816, 0.22589302532218816, 0.22589302532218816, 0.22589302532218816, 0.22589302532218816, 0.22589302532218816, 0.22589302532218816, 0.22589302532218816, 0.22589302532218816, 0.22589302532218816, 0.22589302532218816, 0.22589302532218816, 0.22589302532218816, 0.22589302532218816, 0.22589302532218816, 0.22589302532218816, 0.22589302532218816, 0.22589302532218816, 0.22589302532218816, 0.22589302532218816, 0.22589302532218816, 0.22589302532218816, 0.22589302532218816, 0.22589302532218816, 0.22589302532218816, 0.22589302532218816, 0.22589302532218816, 0.22589302532218816, 0.22589302532218816, 0.22589302532218816, 0.22589302532218816, 0.22589302532218816, 0.22589302532218816, 0.22589302532218816, 0.22589302532218816, 0.22589302532218816, 0.22589302532218816, 0.22589302532218816, 0.22589302532218816, 0.22589302532218816, 0.22589302532218816, 0.22589302532218816, 0.22589302532218816, 0.22589302532218816, 0.22589302532218816, 0.22589302532218816, 0.22589302532218816, 0.22589302532218816, 0.22589302532218816, 0.22589302532218816, 0.22589302532218816, 0.22589302532218816, 0.22589302532218816, 0.22589302532218816, 0.22589302532218816, 0.22589302532218816, 0.22589302532218816, 0.22589302532218816, 0.22589302532218816, 0.22589302532218816, 0.22589302532218816, 0.22589302532218816, 0.22589302532218816, 0.22589302532218816, 0.22589302532218816, 0.22589302532218816, 0.22589302532218816, 0.22589302532218816, 0.22589302532218816, 0.22589302532218816, 0.22589302532218816, 0.22589302532218816, 0.22589302532218816, 0.22589302532218816, 0.22589302532218816, 0.22589302532218816, 0.22589302532218816, 0.22589302532218816, 0.22589302532218816, 0.22589302532218816, 0.22589302532218816, 0.22589302532218816, 0.22589302532218816, 0.22589302532218816, 0.22589302532218816, 0.22589302532218816, 0.22589302532218816, 0.22589302532218816, 0.22589302532218816, 0.22589302532218816, 0.22589302532218816, 0.22589302532218816, 0.22589302532218816, 0.22589302532218816, 0.22589302532218816, 0.22589302532218816, 0.22589302532218816, 0.22589302532218816, 0.22589302532218816, 0.22589302532218816]\n"
          ],
          "name": "stdout"
        },
        {
          "output_type": "display_data",
          "data": {
            "image/png": "[encoded data removed]",
            "text/plain": [
              "<Figure size 432x288 with 1 Axes>"
            ]
          },
          "metadata": {
            "tags": []
          }
        }
      ]
    },
    {
      "cell_type": "markdown",
      "metadata": {
        "id": "pwx-OBt3uoBd",
        "colab_type": "text"
      },
      "source": [
        "# Obseevation \n",
        "Our MSE remains the same on increasing maximum iteration count. This indicates that the gradients obtained is tending to zero, causing nearly no change in model's weights (in the update equation) on further iterations."
      ]
    },
    {
      "cell_type": "code",
      "metadata": {
        "id": "Hsobgop7cR-k",
        "colab_type": "code",
        "colab": {}
      },
      "source": [
        ""
      ],
      "execution_count": 0,
      "outputs": []
    }
  ]
}